{
 "cells": [
  {
   "cell_type": "code",
   "execution_count": 2,
   "id": "0ff11515-cabf-4379-9fe3-de32f262e784",
   "metadata": {},
   "outputs": [
    {
     "name": "stdout",
     "output_type": "stream",
     "text": [
      "Query 0:\n",
      "Neighbors: [  0 830  82 290 115]\n",
      "Distances: [  0.      179.98962 180.39163 181.67729 189.05643]\n",
      "\n",
      "Query 1:\n",
      "Neighbors: [  1  82  10 672 296]\n",
      "Distances: [  0.      165.26791 180.867   183.32487 183.71414]\n",
      "\n",
      "Query 2:\n",
      "Neighbors: [  2 406 195 448 616]\n",
      "Distances: [  0.      182.16898 183.13275 185.14429 187.04024]\n",
      "\n",
      "Query 3:\n",
      "Neighbors: [  3 207 106 150 448]\n",
      "Distances: [  0.      198.76974 204.71278 205.54095 206.0872 ]\n",
      "\n",
      "Query 4:\n",
      "Neighbors: [  4 706 804 595 641]\n",
      "Distances: [  0.      212.95074 217.5586  219.46474 220.11826]\n",
      "\n",
      "Query 5:\n",
      "Neighbors: [  5 745 854 170 654]\n",
      "Distances: [  0.      182.33856 182.35709 183.69017 183.77151]\n",
      "\n",
      "Query 6:\n",
      "Neighbors: [  6 145 533 553 406]\n",
      "Distances: [  0.      192.09126 194.00081 197.98654 200.80621]\n",
      "\n",
      "Query 7:\n",
      "Neighbors: [  7 911 745 988 106]\n",
      "Distances: [  0.      162.74696 166.1969  167.26115 176.02084]\n",
      "\n",
      "Query 8:\n",
      "Neighbors: [  8 399 670 335 349]\n",
      "Distances: [  0.      166.45467 172.41602 174.5196  174.58582]\n",
      "\n",
      "Query 9:\n",
      "Neighbors: [  9 339 657 586 585]\n",
      "Distances: [  0.      182.6387  187.94014 192.97781 193.98271]\n",
      "\n"
     ]
    }
   ],
   "source": [
    "import hnswlib\n",
    "import numpy as np\n",
    "\n",
    "# Initialize data\n",
    "data_size = 10000\n",
    "dim = 128  # Dimension of the vectors\n",
    "num_elements = 1000  # Number of elements (vectors)\n",
    "\n",
    "# Generate random data\n",
    "data = np.random.randn(num_elements, dim).astype(np.float32)\n",
    "\n",
    "# Initialize the HNSWlib index\n",
    "p = hnswlib.Index(space='l2', dim=dim)  # 'l2' means Euclidean distance\n",
    "\n",
    "# Initialize index with the number of elements (we'll add elements later)\n",
    "p.init_index(max_elements=data_size, ef_construction=200, M=16)\n",
    "\n",
    "# Add elements to the index\n",
    "p.add_items(data)\n",
    "\n",
    "# Set ef parameter (controls the recall and query time)\n",
    "p.set_ef(50)  # ef should always be > k (the number of neighbors)\n",
    "\n",
    "# Query the index for the nearest neighbors\n",
    "labels, distances = p.knn_query(data, k=5)  # k is the number of nearest neighbors\n",
    "\n",
    "# Print the results\n",
    "for i in range(10):  # Print the first 10 results\n",
    "    print(f\"Query {i}:\")\n",
    "    print(f\"Neighbors: {labels[i]}\")\n",
    "    print(f\"Distances: {distances[i]}\\n\")\n"
   ]
  },
  {
   "cell_type": "code",
   "execution_count": 3,
   "id": "b716ace5-43ff-49f9-addf-3a01ac88bf8e",
   "metadata": {},
   "outputs": [
    {
     "data": {
      "text/plain": [
       "array([[  0, 830,  82, 290, 115],\n",
       "       [  1,  82,  10, 672, 296],\n",
       "       [  2, 406, 195, 448, 616],\n",
       "       ...,\n",
       "       [997, 437, 399, 279, 335],\n",
       "       [998, 821, 988, 349, 521],\n",
       "       [999, 739, 927, 230, 264]], dtype=uint64)"
      ]
     },
     "execution_count": 3,
     "metadata": {},
     "output_type": "execute_result"
    }
   ],
   "source": [
    "labels"
   ]
  },
  {
   "cell_type": "code",
   "execution_count": 4,
   "id": "dd7df653-044b-4c3e-8caa-f9a57baf0f54",
   "metadata": {},
   "outputs": [
    {
     "data": {
      "text/plain": [
       "array([[  0.     , 179.98962, 180.39163, 181.67729, 189.05643],\n",
       "       [  0.     , 165.26791, 180.867  , 183.32487, 183.71414],\n",
       "       [  0.     , 182.16898, 183.13275, 185.14429, 187.04024],\n",
       "       ...,\n",
       "       [  0.     , 187.62189, 188.10855, 189.41367, 189.92006],\n",
       "       [  0.     , 181.98383, 190.10242, 190.18205, 193.98013],\n",
       "       [  0.     , 149.94748, 162.15645, 169.93254, 170.14034]],\n",
       "      dtype=float32)"
      ]
     },
     "execution_count": 4,
     "metadata": {},
     "output_type": "execute_result"
    }
   ],
   "source": [
    "distances"
   ]
  },
  {
   "cell_type": "code",
   "execution_count": null,
   "id": "8f998985-404d-470a-abe8-4b4f474855bb",
   "metadata": {},
   "outputs": [],
   "source": []
  }
 ],
 "metadata": {
  "kernelspec": {
   "display_name": "dev",
   "language": "python",
   "name": "dev"
  },
  "language_info": {
   "codemirror_mode": {
    "name": "ipython",
    "version": 3
   },
   "file_extension": ".py",
   "mimetype": "text/x-python",
   "name": "python",
   "nbconvert_exporter": "python",
   "pygments_lexer": "ipython3",
   "version": "3.10.14"
  }
 },
 "nbformat": 4,
 "nbformat_minor": 5
}
