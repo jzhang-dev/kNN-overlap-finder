{
 "cells": [
  {
   "cell_type": "code",
   "execution_count": 1,
   "metadata": {},
   "outputs": [],
   "source": [
    "from Bio import SeqIO\n",
    "import ahocorasick\n",
    "import collections\n",
    "import scipy as sp\n",
    "\n",
    "# FASTA文件路径\n",
    "fasta_file = \"/home/miaocj/docker_dir/kNN-overlap-finder/data/metagenome_reference/GTDB/mer_sampled.fa\"\n",
    "# 使用 SeqIO.parse() 读取FASTA文件\n",
    "kmers = [str(record.seq) for record in SeqIO.parse(fasta_file, \"fasta\")]\n",
    "A = ahocorasick.Automaton()\n",
    "\n",
    "for index,keyword in enumerate(kmers):\n",
    "    A.add_word(keyword, index)\n",
    "A.make_automaton()\n"
   ]
  },
  {
   "cell_type": "code",
   "execution_count": 2,
   "metadata": {},
   "outputs": [
    {
     "data": {
      "text/plain": [
       "10735133"
      ]
     },
     "execution_count": 2,
     "metadata": {},
     "output_type": "execute_result"
    }
   ],
   "source": [
    "len(kmers)"
   ]
  },
  {
   "cell_type": "code",
   "execution_count": 5,
   "metadata": {},
   "outputs": [
    {
     "name": "stdout",
     "output_type": "stream",
     "text": [
      "Counter({5496417: 1, 17439: 1, 184365: 1, 8048510: 1, 23810: 1, 10229339: 1, 4953549: 1, 6106386: 1, 14363: 1, 10617552: 1, 9041886: 1, 5823071: 1, 10605257: 1, 3956906: 1, 22448: 1, 2736494: 1, 42515: 1, 2678116: 1, 8624229: 1, 666761: 1, 10666022: 1, 4028795: 1, 8601662: 1, 10660280: 1, 1200077: 1, 9600387: 1, 4756337: 1, 8823795: 1, 1058238: 1, 6819564: 1, 5887602: 1, 10370383: 1, 3341048: 1, 3909859: 1, 5197517: 1, 3107917: 1, 4707684: 1, 4689021: 1, 8543293: 1, 5477634: 1, 8050287: 1, 1820280: 1, 9493878: 1, 2427290: 1, 10403222: 1, 4704968: 1, 9931310: 1, 2397064: 1, 2919617: 1, 9919050: 1, 10593121: 1, 8417707: 1})\n",
      "Counter({4997011: 1, 5659119: 1, 96970: 1, 6707318: 1, 1887950: 1, 4264753: 1, 3872179: 1, 426968: 1, 6454348: 1, 6180749: 1, 788570: 1, 9765707: 1, 5236824: 1, 5848952: 1, 1890151: 1, 3831677: 1, 8909662: 1, 10710927: 1, 8599823: 1, 128236: 1, 10196280: 1, 1826632: 1, 4901677: 1, 4660617: 1, 2161555: 1, 780698: 1, 7047741: 1, 4949537: 1, 9331986: 1, 8229678: 1, 9810534: 1, 7690023: 1, 10212757: 1, 7334409: 1, 3860032: 1, 9764355: 1, 6173822: 1, 209543: 1, 9191303: 1, 3647899: 1, 398123: 1, 2078301: 1, 5286829: 1, 5771202: 1, 4378308: 1, 1303598: 1, 4025006: 1, 8824199: 1, 6487684: 1, 754287: 1})\n"
     ]
    },
    {
     "ename": "KeyboardInterrupt",
     "evalue": "",
     "output_type": "error",
     "traceback": [
      "\u001b[0;31m---------------------------------------------------------------------------\u001b[0m",
      "\u001b[0;31mKeyboardInterrupt\u001b[0m                         Traceback (most recent call last)",
      "Cell \u001b[0;32mIn[5], line 6\u001b[0m\n\u001b[1;32m      4\u001b[0m data \u001b[38;5;241m=\u001b[39m []\n\u001b[1;32m      5\u001b[0m keyword_counts \u001b[38;5;241m=\u001b[39m {keyword: \u001b[38;5;241m0\u001b[39m \u001b[38;5;28;01mfor\u001b[39;00m keyword \u001b[38;5;129;01min\u001b[39;00m kmers}\n\u001b[0;32m----> 6\u001b[0m \u001b[38;5;28;43;01mfor\u001b[39;49;00m\u001b[43m \u001b[49m\u001b[43mseq_ind\u001b[49m\u001b[43m,\u001b[49m\u001b[43mrecord\u001b[49m\u001b[43m \u001b[49m\u001b[38;5;129;43;01min\u001b[39;49;00m\u001b[43m \u001b[49m\u001b[38;5;28;43menumerate\u001b[39;49m\u001b[43m(\u001b[49m\u001b[43mSeqIO\u001b[49m\u001b[38;5;241;43m.\u001b[39;49m\u001b[43mparse\u001b[49m\u001b[43m(\u001b[49m\u001b[43mgtdb\u001b[49m\u001b[43m,\u001b[49m\u001b[43m \u001b[49m\u001b[38;5;124;43m\"\u001b[39;49m\u001b[38;5;124;43mfasta\u001b[39;49m\u001b[38;5;124;43m\"\u001b[39;49m\u001b[43m)\u001b[49m\u001b[43m)\u001b[49m\u001b[43m:\u001b[49m\n\u001b[1;32m      7\u001b[0m \u001b[43m    \u001b[49m\u001b[43mkmers_finded\u001b[49m\u001b[43m \u001b[49m\u001b[38;5;241;43m=\u001b[39;49m\u001b[43m \u001b[49m\u001b[43m[\u001b[49m\u001b[43m]\u001b[49m\n\u001b[1;32m      8\u001b[0m \u001b[43m    \u001b[49m\u001b[38;5;28;43;01mif\u001b[39;49;00m\u001b[43m \u001b[49m\u001b[43mseq_ind\u001b[49m\u001b[43m \u001b[49m\u001b[38;5;241;43m<\u001b[39;49m\u001b[43m \u001b[49m\u001b[38;5;241;43m2\u001b[39;49m\u001b[43m \u001b[49m\u001b[43m:\u001b[49m\n",
      "File \u001b[0;32m~/docker_dir/kNN-overlap-finder/.snakemake/conda/3172702e82c9c1d9450fdd20452651b9_/lib/python3.12/site-packages/Bio/SeqIO/Interfaces.py:91\u001b[0m, in \u001b[0;36mSequenceIterator.__next__\u001b[0;34m(self)\u001b[0m\n\u001b[1;32m     89\u001b[0m \u001b[38;5;250m\u001b[39m\u001b[38;5;124;03m\"\"\"Return the next entry.\"\"\"\u001b[39;00m\n\u001b[1;32m     90\u001b[0m \u001b[38;5;28;01mtry\u001b[39;00m:\n\u001b[0;32m---> 91\u001b[0m     \u001b[38;5;28;01mreturn\u001b[39;00m \u001b[38;5;28;43mnext\u001b[39;49m\u001b[43m(\u001b[49m\u001b[38;5;28;43mself\u001b[39;49m\u001b[38;5;241;43m.\u001b[39;49m\u001b[43mrecords\u001b[49m\u001b[43m)\u001b[49m\n\u001b[1;32m     92\u001b[0m \u001b[38;5;28;01mexcept\u001b[39;00m \u001b[38;5;167;01mException\u001b[39;00m:\n\u001b[1;32m     93\u001b[0m     \u001b[38;5;28;01mif\u001b[39;00m \u001b[38;5;28mself\u001b[39m\u001b[38;5;241m.\u001b[39mshould_close_stream:\n",
      "File \u001b[0;32m~/docker_dir/kNN-overlap-finder/.snakemake/conda/3172702e82c9c1d9450fdd20452651b9_/lib/python3.12/site-packages/Bio/SeqIO/FastaIO.py:196\u001b[0m, in \u001b[0;36mFastaIterator.iterate\u001b[0;34m(self, handle)\u001b[0m\n\u001b[1;32m    194\u001b[0m \u001b[38;5;28;01mdef\u001b[39;00m \u001b[38;5;21miterate\u001b[39m(\u001b[38;5;28mself\u001b[39m, handle):\n\u001b[1;32m    195\u001b[0m \u001b[38;5;250m    \u001b[39m\u001b[38;5;124;03m\"\"\"Parse the file and generate SeqRecord objects.\"\"\"\u001b[39;00m\n\u001b[0;32m--> 196\u001b[0m \u001b[43m    \u001b[49m\u001b[38;5;28;43;01mfor\u001b[39;49;00m\u001b[43m \u001b[49m\u001b[43mtitle\u001b[49m\u001b[43m,\u001b[49m\u001b[43m \u001b[49m\u001b[43msequence\u001b[49m\u001b[43m \u001b[49m\u001b[38;5;129;43;01min\u001b[39;49;00m\u001b[43m \u001b[49m\u001b[43mSimpleFastaParser\u001b[49m\u001b[43m(\u001b[49m\u001b[43mhandle\u001b[49m\u001b[43m)\u001b[49m\u001b[43m:\u001b[49m\n\u001b[1;32m    197\u001b[0m \u001b[43m        \u001b[49m\u001b[38;5;28;43;01mtry\u001b[39;49;00m\u001b[43m:\u001b[49m\n\u001b[1;32m    198\u001b[0m \u001b[43m            \u001b[49m\u001b[43mfirst_word\u001b[49m\u001b[43m \u001b[49m\u001b[38;5;241;43m=\u001b[39;49m\u001b[43m \u001b[49m\u001b[43mtitle\u001b[49m\u001b[38;5;241;43m.\u001b[39;49m\u001b[43msplit\u001b[49m\u001b[43m(\u001b[49m\u001b[38;5;28;43;01mNone\u001b[39;49;00m\u001b[43m,\u001b[49m\u001b[43m \u001b[49m\u001b[38;5;241;43m1\u001b[39;49m\u001b[43m)\u001b[49m\u001b[43m[\u001b[49m\u001b[38;5;241;43m0\u001b[39;49m\u001b[43m]\u001b[49m\n",
      "File \u001b[0;32m~/docker_dir/kNN-overlap-finder/.snakemake/conda/3172702e82c9c1d9450fdd20452651b9_/lib/python3.12/site-packages/Bio/SeqIO/FastaIO.py:62\u001b[0m, in \u001b[0;36mSimpleFastaParser\u001b[0;34m(handle)\u001b[0m\n\u001b[1;32m     57\u001b[0m \u001b[38;5;66;03m# Main logic\u001b[39;00m\n\u001b[1;32m     58\u001b[0m \u001b[38;5;66;03m# Note, remove trailing whitespace, and any internal spaces\u001b[39;00m\n\u001b[1;32m     59\u001b[0m \u001b[38;5;66;03m# (and any embedded \\r which are possible in mangled files\u001b[39;00m\n\u001b[1;32m     60\u001b[0m \u001b[38;5;66;03m# when not opened in universal read lines mode)\u001b[39;00m\n\u001b[1;32m     61\u001b[0m lines \u001b[38;5;241m=\u001b[39m []\n\u001b[0;32m---> 62\u001b[0m \u001b[43m\u001b[49m\u001b[38;5;28;43;01mfor\u001b[39;49;00m\u001b[43m \u001b[49m\u001b[43mline\u001b[49m\u001b[43m \u001b[49m\u001b[38;5;129;43;01min\u001b[39;49;00m\u001b[43m \u001b[49m\u001b[43mhandle\u001b[49m\u001b[43m:\u001b[49m\n\u001b[1;32m     63\u001b[0m \u001b[43m    \u001b[49m\u001b[38;5;28;43;01mif\u001b[39;49;00m\u001b[43m \u001b[49m\u001b[43mline\u001b[49m\u001b[43m[\u001b[49m\u001b[38;5;241;43m0\u001b[39;49m\u001b[43m]\u001b[49m\u001b[43m \u001b[49m\u001b[38;5;241;43m==\u001b[39;49m\u001b[43m \u001b[49m\u001b[38;5;124;43m\"\u001b[39;49m\u001b[38;5;124;43m>\u001b[39;49m\u001b[38;5;124;43m\"\u001b[39;49m\u001b[43m:\u001b[49m\n\u001b[1;32m     64\u001b[0m \u001b[43m        \u001b[49m\u001b[38;5;28;43;01myield\u001b[39;49;00m\u001b[43m \u001b[49m\u001b[43mtitle\u001b[49m\u001b[43m,\u001b[49m\u001b[43m \u001b[49m\u001b[38;5;124;43m\"\u001b[39;49m\u001b[38;5;124;43m\"\u001b[39;49m\u001b[38;5;241;43m.\u001b[39;49m\u001b[43mjoin\u001b[49m\u001b[43m(\u001b[49m\u001b[43mlines\u001b[49m\u001b[43m)\u001b[49m\u001b[38;5;241;43m.\u001b[39;49m\u001b[43mreplace\u001b[49m\u001b[43m(\u001b[49m\u001b[38;5;124;43m\"\u001b[39;49m\u001b[38;5;124;43m \u001b[39;49m\u001b[38;5;124;43m\"\u001b[39;49m\u001b[43m,\u001b[49m\u001b[43m \u001b[49m\u001b[38;5;124;43m\"\u001b[39;49m\u001b[38;5;124;43m\"\u001b[39;49m\u001b[43m)\u001b[49m\u001b[38;5;241;43m.\u001b[39;49m\u001b[43mreplace\u001b[49m\u001b[43m(\u001b[49m\u001b[38;5;124;43m\"\u001b[39;49m\u001b[38;5;130;43;01m\\r\u001b[39;49;00m\u001b[38;5;124;43m\"\u001b[39;49m\u001b[43m,\u001b[49m\u001b[43m \u001b[49m\u001b[38;5;124;43m\"\u001b[39;49m\u001b[38;5;124;43m\"\u001b[39;49m\u001b[43m)\u001b[49m\n",
      "File \u001b[0;32m<frozen codecs>:319\u001b[0m, in \u001b[0;36mdecode\u001b[0;34m(self, input, final)\u001b[0m\n",
      "\u001b[0;31mKeyboardInterrupt\u001b[0m: "
     ]
    }
   ],
   "source": [
    "gtdb = \"/home/miaocj/docker_dir/kNN-overlap-finder/data/metagenome_reference/GTDB/GTDB_database.fna\"\n",
    "row_ind = []\n",
    "col_ind = []\n",
    "data = []\n",
    "keyword_counts = {keyword: 0 for keyword in kmers}\n",
    "for seq_ind,record in enumerate(SeqIO.parse(gtdb, \"fasta\")):\n",
    "    kmers_finded = []\n",
    "    if seq_ind < 2 :\n",
    "        for end_index, matched_keyword in A.iter(str(record.seq)):\n",
    "            kmers_finded.append(matched_keyword)\n",
    "        kmer_counter = collections.Counter(kmers_finded)\n",
    "        print(kmer_counter)\n",
    "\n"
   ]
  },
  {
   "cell_type": "code",
   "execution_count": null,
   "metadata": {},
   "outputs": [],
   "source": [
    "feature_matrix = sp.csr_matrix(\n",
    "        (data, (row_ind, col_ind)), shape=(17217721, 10735133)\n",
    "    )\n",
    "output_ref_npz_file = '/home/miaocj/docker_dir/kNN-overlap-finder/data/feature_matrix/metagenome/GTDB/ref_feature_matrix.npz'\n",
    "sp.save_npz(output_ref_npz_file, feature_matrix) "
   ]
  },
  {
   "cell_type": "code",
   "execution_count": 14,
   "metadata": {},
   "outputs": [],
   "source": [
    "import scipy as sp\n",
    "feature_matrix = sp.sparse.load_npz('/home/miaocj/docker_dir/kNN-overlap-finder/data/feature_matrix/metagenome/GTDB/feature_matrix.npz')\n"
   ]
  },
  {
   "cell_type": "code",
   "execution_count": 16,
   "metadata": {},
   "outputs": [
    {
     "data": {
      "text/plain": [
       "10735133"
      ]
     },
     "execution_count": 16,
     "metadata": {},
     "output_type": "execute_result"
    }
   ],
   "source": [
    "feature_matrix.nnz"
   ]
  },
  {
   "cell_type": "code",
   "execution_count": 4,
   "metadata": {},
   "outputs": [],
   "source": [
    "A = ahocorasick.Automaton()\n",
    "\n",
    "for index,keyword in enumerate(['AT','TC','AA']):\n",
    "    A.add_word(keyword, index)\n",
    "A.make_automaton()"
   ]
  },
  {
   "cell_type": "code",
   "execution_count": 10,
   "metadata": {},
   "outputs": [
    {
     "data": {
      "text/plain": [
       "Counter({0: 2, 1: 1})"
      ]
     },
     "execution_count": 10,
     "metadata": {},
     "output_type": "execute_result"
    }
   ],
   "source": [
    "import collections\n",
    "myli = []\n",
    "for end_index, matched_keyword in A.iter('ATCGAT'):\n",
    "    myli.append(matched_keyword)\n",
    "collections.Counter(myli)"
   ]
  },
  {
   "cell_type": "code",
   "execution_count": null,
   "metadata": {},
   "outputs": [],
   "source": [
    "for j, count in kmer_counts.items():\n",
    "    row_ind.append(i)\n",
    "    col_ind.append(j)\n",
    "    data.append(count)\n",
    "\n",
    "feature_matrix = sp.csr_matrix(\n",
    "(data, (row_ind, col_ind)), shape=(len(read_sequences), len(kmer_indices))\n",
    ")\n"
   ]
  },
  {
   "cell_type": "code",
   "execution_count": null,
   "metadata": {},
   "outputs": [],
   "source": [
    "\n",
    "text = \"ushers are here, she is his sister. She is his sister.\"\n",
    "keywords = [\"he\", \"she\", \"his\", \"hers\"]\n",
    "\n",
    "A = ahocorasick.Automaton()\n",
    "\n",
    "for keyword in keywords:\n",
    "    A.add_word(keyword, keyword)  # 关联值直接使用关键词本身\n",
    "\n",
    "A.make_automaton()\n",
    "\n",
    "keyword_counts = {keyword: 0 for keyword in keywords}\n",
    "\n",
    "for end_index, matched_keyword in A.iter(text):\n",
    "    keyword_counts[matched_keyword] += 1\n",
    "keyword_counts\n"
   ]
  }
 ],
 "metadata": {
  "kernelspec": {
   "display_name": "3172702e82c9c1d9450fdd20452651b9_",
   "language": "python",
   "name": "python3"
  },
  "language_info": {
   "codemirror_mode": {
    "name": "ipython",
    "version": 3
   },
   "file_extension": ".py",
   "mimetype": "text/x-python",
   "name": "python",
   "nbconvert_exporter": "python",
   "pygments_lexer": "ipython3",
   "version": "3.12.3"
  }
 },
 "nbformat": 4,
 "nbformat_minor": 2
}
