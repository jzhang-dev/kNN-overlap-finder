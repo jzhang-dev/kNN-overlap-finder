{
 "cells": [
  {
   "cell_type": "code",
   "execution_count": 1,
   "id": "2430581e-dd21-4e99-a8e8-957cb2cf0b63",
   "metadata": {},
   "outputs": [],
   "source": [
    "import numpy as np\n",
    "from scipy.sparse import csr_matrix, find\n",
    "\n",
    "def generalized_jaccard_similarity_sparse(S, T):\n",
    "    \"\"\"Calculates the generalized Jaccard similarity between two sparse weighted sets.\n",
    "\n",
    "    Args:\n",
    "        S: A scipy.sparse.csr_matrix representing the first weighted set.\n",
    "        T: A scipy.sparse.csr_matrix representing the second weighted set.\n",
    "\n",
    "    Returns:\n",
    "        The generalized Jaccard similarity between S and T.\n",
    "    \"\"\"\n",
    "\n",
    "    # Find the non-zero indices and values of both matrices\n",
    "    S_row, S_col, S_data = find(S)\n",
    "    T_row, T_col, T_data = find(T)\n",
    "\n",
    "    # Merge indices and values for efficient computation\n",
    "    all_row = np.hstack([S_row, T_row])\n",
    "    all_col = np.hstack([S_col, T_col])\n",
    "    all_data = np.hstack([S_data, T_data])\n",
    "\n",
    "    # Create a sparse matrix to represent the union of the two sets\n",
    "    union_matrix = csr_matrix((all_data, (all_row, all_col)), shape=S.shape)\n",
    "\n",
    "    # Find the min and max values for each overlapping element\n",
    "    min_values = np.minimum(S_data, T_data[np.in1d(T_col, S_col)])\n",
    "    max_values = union_matrix.data  # Use the data from the union matrix for max\n",
    "\n",
    "    # Calculate the generalized Jaccard similarity\n",
    "    min_sum = min_values.sum()\n",
    "    max_sum = max_values.sum()\n",
    "    if max_sum == 0:\n",
    "        return 0\n",
    "    else:\n",
    "        return min_sum / max_sum\n"
   ]
  },
  {
   "cell_type": "code",
   "execution_count": 8,
   "id": "8cf50bbe-9192-4126-8857-922881cb36b7",
   "metadata": {},
   "outputs": [],
   "source": [
    "from scipy import sparse\n",
    "\n",
    "S = sparse.csr_matrix([1.5, 0, 2.0])\n",
    "T = sparse.csr_matrix([1.2, 1, 1.0])\n"
   ]
  },
  {
   "cell_type": "code",
   "execution_count": 9,
   "id": "56ceaf26-0b10-4dff-ad5e-b8f8fd874ffd",
   "metadata": {},
   "outputs": [],
   "source": [
    "from sklearn.feature_extraction.text import TfidfTransformer\n"
   ]
  },
  {
   "cell_type": "code",
   "execution_count": 10,
   "id": "11b0c7e0-8d9f-44e5-9318-9c84014e448d",
   "metadata": {},
   "outputs": [
    {
     "data": {
      "text/plain": [
       "<1x3 sparse matrix of type '<class 'numpy.float64'>'\n",
       "\twith 2 stored elements in Compressed Sparse Row format>"
      ]
     },
     "execution_count": 10,
     "metadata": {},
     "output_type": "execute_result"
    }
   ],
   "source": [
    "S"
   ]
  },
  {
   "cell_type": "code",
   "execution_count": 11,
   "id": "61aa7cf3-b723-4d9c-9a83-3b51795d24e7",
   "metadata": {},
   "outputs": [
    {
     "data": {
      "text/plain": [
       "<1x3 sparse matrix of type '<class 'numpy.float64'>'\n",
       "\twith 2 stored elements in Compressed Sparse Row format>"
      ]
     },
     "execution_count": 11,
     "metadata": {},
     "output_type": "execute_result"
    }
   ],
   "source": [
    "TfidfTransformer(use_idf=True, smooth_idf=True).fit_transform(S)"
   ]
  },
  {
   "cell_type": "code",
   "execution_count": null,
   "id": "734ea3c6-5294-4f64-8a0d-2f6d1cbf6ee5",
   "metadata": {},
   "outputs": [],
   "source": []
  },
  {
   "cell_type": "code",
   "execution_count": 15,
   "id": "a30d3492-1776-4b6c-aa36-0ed98490dc52",
   "metadata": {},
   "outputs": [
    {
     "data": {
      "text/plain": [
       "matrix([[1.5, 0. , 2. ]])"
      ]
     },
     "execution_count": 15,
     "metadata": {},
     "output_type": "execute_result"
    }
   ],
   "source": [
    "S.todense()"
   ]
  },
  {
   "cell_type": "code",
   "execution_count": 16,
   "id": "b662d507-b187-4fd6-add7-3d259640218a",
   "metadata": {},
   "outputs": [
    {
     "data": {
      "text/plain": [
       "matrix([[1.2, 1. , 1. ]])"
      ]
     },
     "execution_count": 16,
     "metadata": {},
     "output_type": "execute_result"
    }
   ],
   "source": [
    "T.todense()"
   ]
  },
  {
   "cell_type": "code",
   "execution_count": 29,
   "id": "275f490b-42f8-4429-b079-8116b8af5e31",
   "metadata": {},
   "outputs": [],
   "source": [
    "X = sparse.vstack([S, T])"
   ]
  },
  {
   "cell_type": "code",
   "execution_count": 30,
   "id": "fa964dcf-f19b-44e4-9aef-7b1cc09b454a",
   "metadata": {},
   "outputs": [
    {
     "data": {
      "text/plain": [
       "0.48888888888888893"
      ]
     },
     "execution_count": 30,
     "metadata": {},
     "output_type": "execute_result"
    }
   ],
   "source": [
    "X.min(axis=0).sum() / X.max(axis=0).sum()"
   ]
  },
  {
   "cell_type": "code",
   "execution_count": 27,
   "id": "5b55dfa3-9039-4251-93b5-59d0b92e8c07",
   "metadata": {},
   "outputs": [
    {
     "data": {
      "text/plain": [
       "scipy.sparse._csr.csr_matrix"
      ]
     },
     "execution_count": 27,
     "metadata": {},
     "output_type": "execute_result"
    }
   ],
   "source": [
    "type(S)"
   ]
  },
  {
   "cell_type": "code",
   "execution_count": 28,
   "id": "a20a3d6c-c8e1-41e5-b768-1de4d4dd3602",
   "metadata": {},
   "outputs": [
    {
     "data": {
      "text/plain": [
       "(1, 3)"
      ]
     },
     "execution_count": 28,
     "metadata": {},
     "output_type": "execute_result"
    }
   ],
   "source": [
    "S.shape"
   ]
  },
  {
   "cell_type": "code",
   "execution_count": 31,
   "id": "190428da-372f-4ddf-87cc-a5fe82af2fa0",
   "metadata": {},
   "outputs": [
    {
     "ename": "ValueError",
     "evalue": "blocks must be 2-D",
     "output_type": "error",
     "traceback": [
      "\u001b[0;31m---------------------------------------------------------------------------\u001b[0m",
      "\u001b[0;31mValueError\u001b[0m                                Traceback (most recent call last)",
      "Cell \u001b[0;32mIn[31], line 3\u001b[0m\n\u001b[1;32m      1\u001b[0m x \u001b[38;5;241m=\u001b[39m np\u001b[38;5;241m.\u001b[39marange(\u001b[38;5;241m3\u001b[39m)\n\u001b[1;32m      2\u001b[0m y \u001b[38;5;241m=\u001b[39m np\u001b[38;5;241m.\u001b[39marange(\u001b[38;5;241m3\u001b[39m)\n\u001b[0;32m----> 3\u001b[0m s \u001b[38;5;241m=\u001b[39m \u001b[43msparse\u001b[49m\u001b[38;5;241;43m.\u001b[39;49m\u001b[43mvstack\u001b[49m\u001b[43m(\u001b[49m\u001b[43m[\u001b[49m\u001b[43mx\u001b[49m\u001b[43m,\u001b[49m\u001b[43m \u001b[49m\u001b[43my\u001b[49m\u001b[43m]\u001b[49m\u001b[43m)\u001b[49m\n",
      "File \u001b[0;32m~/miniconda3/envs/dev/lib/python3.10/site-packages/scipy/sparse/_construct.py:781\u001b[0m, in \u001b[0;36mvstack\u001b[0;34m(blocks, format, dtype)\u001b[0m\n\u001b[1;32m    779\u001b[0m     \u001b[38;5;28;01mreturn\u001b[39;00m _block([[b] \u001b[38;5;28;01mfor\u001b[39;00m b \u001b[38;5;129;01min\u001b[39;00m blocks], \u001b[38;5;28mformat\u001b[39m, dtype)\n\u001b[1;32m    780\u001b[0m \u001b[38;5;28;01melse\u001b[39;00m:\n\u001b[0;32m--> 781\u001b[0m     \u001b[38;5;28;01mreturn\u001b[39;00m \u001b[43m_block\u001b[49m\u001b[43m(\u001b[49m\u001b[43m[\u001b[49m\u001b[43m[\u001b[49m\u001b[43mb\u001b[49m\u001b[43m]\u001b[49m\u001b[43m \u001b[49m\u001b[38;5;28;43;01mfor\u001b[39;49;00m\u001b[43m \u001b[49m\u001b[43mb\u001b[49m\u001b[43m \u001b[49m\u001b[38;5;129;43;01min\u001b[39;49;00m\u001b[43m \u001b[49m\u001b[43mblocks\u001b[49m\u001b[43m]\u001b[49m\u001b[43m,\u001b[49m\u001b[43m \u001b[49m\u001b[38;5;28;43mformat\u001b[39;49m\u001b[43m,\u001b[49m\u001b[43m \u001b[49m\u001b[43mdtype\u001b[49m\u001b[43m,\u001b[49m\u001b[43m \u001b[49m\u001b[43mreturn_spmatrix\u001b[49m\u001b[38;5;241;43m=\u001b[39;49m\u001b[38;5;28;43;01mTrue\u001b[39;49;00m\u001b[43m)\u001b[49m\n",
      "File \u001b[0;32m~/miniconda3/envs/dev/lib/python3.10/site-packages/scipy/sparse/_construct.py:898\u001b[0m, in \u001b[0;36m_block\u001b[0;34m(blocks, format, dtype, return_spmatrix)\u001b[0m\n\u001b[1;32m    895\u001b[0m blocks \u001b[38;5;241m=\u001b[39m np\u001b[38;5;241m.\u001b[39masarray(blocks, dtype\u001b[38;5;241m=\u001b[39m\u001b[38;5;124m'\u001b[39m\u001b[38;5;124mobject\u001b[39m\u001b[38;5;124m'\u001b[39m)\n\u001b[1;32m    897\u001b[0m \u001b[38;5;28;01mif\u001b[39;00m blocks\u001b[38;5;241m.\u001b[39mndim \u001b[38;5;241m!=\u001b[39m \u001b[38;5;241m2\u001b[39m:\n\u001b[0;32m--> 898\u001b[0m     \u001b[38;5;28;01mraise\u001b[39;00m \u001b[38;5;167;01mValueError\u001b[39;00m(\u001b[38;5;124m'\u001b[39m\u001b[38;5;124mblocks must be 2-D\u001b[39m\u001b[38;5;124m'\u001b[39m)\n\u001b[1;32m    900\u001b[0m M,N \u001b[38;5;241m=\u001b[39m blocks\u001b[38;5;241m.\u001b[39mshape\n\u001b[1;32m    902\u001b[0m \u001b[38;5;66;03m# check for fast path cases\u001b[39;00m\n",
      "\u001b[0;31mValueError\u001b[0m: blocks must be 2-D"
     ]
    }
   ],
   "source": [
    "x = np.arange(3)\n",
    "y = np.arange(3)\n",
    "s = sparse.vstack([x, y])"
   ]
  },
  {
   "cell_type": "code",
   "execution_count": null,
   "id": "808ebfc5-2c2a-481c-a708-023a53052639",
   "metadata": {},
   "outputs": [],
   "source": []
  }
 ],
 "metadata": {
  "kernelspec": {
   "display_name": "dev",
   "language": "python",
   "name": "dev"
  },
  "language_info": {
   "codemirror_mode": {
    "name": "ipython",
    "version": 3
   },
   "file_extension": ".py",
   "mimetype": "text/x-python",
   "name": "python",
   "nbconvert_exporter": "python",
   "pygments_lexer": "ipython3",
   "version": "3.10.14"
  }
 },
 "nbformat": 4,
 "nbformat_minor": 5
}
