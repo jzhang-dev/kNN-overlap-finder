{
 "cells": [
  {
   "cell_type": "code",
   "execution_count": 4,
   "id": "8d1fe5ef-4d17-4565-832a-63a9f4f7eb16",
   "metadata": {},
   "outputs": [
    {
     "ename": "ImportError",
     "evalue": "cannot import name 'OverlapGraph' from partially initialized module 'graph' (most likely due to a circular import) (/home/miaocj/docker_dir/kNN-overlap-finder/scripts/graph.py)",
     "output_type": "error",
     "traceback": [
      "\u001b[0;31m---------------------------------------------------------------------------\u001b[0m",
      "\u001b[0;31mImportError\u001b[0m                               Traceback (most recent call last)",
      "Cell \u001b[0;32mIn[4], line 15\u001b[0m\n\u001b[1;32m     13\u001b[0m \u001b[38;5;28;01mimport\u001b[39;00m \u001b[38;5;21;01mos\u001b[39;00m\n\u001b[1;32m     14\u001b[0m sys\u001b[38;5;241m.\u001b[39mpath\u001b[38;5;241m.\u001b[39mappend(\u001b[38;5;124m'\u001b[39m\u001b[38;5;124m/home/miaocj/docker_dir/kNN-overlap-finder/scripts\u001b[39m\u001b[38;5;124m'\u001b[39m)\n\u001b[0;32m---> 15\u001b[0m \u001b[38;5;28;01mfrom\u001b[39;00m \u001b[38;5;21;01mgraph\u001b[39;00m \u001b[38;5;28;01mimport\u001b[39;00m OverlapGraph, GenomicInterval\n\u001b[1;32m     16\u001b[0m \u001b[38;5;28;01mfrom\u001b[39;00m \u001b[38;5;21;01mplots\u001b[39;00m \u001b[38;5;28;01mimport\u001b[39;00m plot_read_graph\n",
      "File \u001b[0;32m~/docker_dir/kNN-overlap-finder/scripts/graph.py:13\u001b[0m\n\u001b[1;32m     10\u001b[0m \u001b[38;5;28;01mfrom\u001b[39;00m \u001b[38;5;21;01mintervaltree\u001b[39;00m \u001b[38;5;28;01mimport\u001b[39;00m Interval, IntervalTree\n\u001b[1;32m     12\u001b[0m \u001b[38;5;28;01mfrom\u001b[39;00m \u001b[38;5;21;01mdata_io\u001b[39;00m \u001b[38;5;28;01mimport\u001b[39;00m get_sibling_id, get_fwd_id, parse_paf_file\n\u001b[0;32m---> 13\u001b[0m \u001b[38;5;28;01mfrom\u001b[39;00m \u001b[38;5;21;01malign\u001b[39;00m \u001b[38;5;28;01mimport\u001b[39;00m _PairwiseAligner, run_multiprocess_alignment, AlignmentResult\n\u001b[1;32m     16\u001b[0m \u001b[38;5;129m@dataclass\u001b[39m\n\u001b[1;32m     17\u001b[0m \u001b[38;5;28;01mclass\u001b[39;00m \u001b[38;5;21;01mGenomicInterval\u001b[39;00m:\n\u001b[1;32m     18\u001b[0m     chromosome: \u001b[38;5;28mstr\u001b[39m\n",
      "File \u001b[0;32m~/docker_dir/kNN-overlap-finder/notebooks/align.py:15\u001b[0m\n\u001b[1;32m     13\u001b[0m \u001b[38;5;28;01mimport\u001b[39;00m \u001b[38;5;21;01mos\u001b[39;00m\n\u001b[1;32m     14\u001b[0m sys\u001b[38;5;241m.\u001b[39mpath\u001b[38;5;241m.\u001b[39mappend(\u001b[38;5;124m'\u001b[39m\u001b[38;5;124m/home/miaocj/docker_dir/kNN-overlap-finder/scripts\u001b[39m\u001b[38;5;124m'\u001b[39m)\n\u001b[0;32m---> 15\u001b[0m \u001b[38;5;28;01mfrom\u001b[39;00m \u001b[38;5;21;01mgraph\u001b[39;00m \u001b[38;5;28;01mimport\u001b[39;00m OverlapGraph, GenomicInterval\n\u001b[1;32m     16\u001b[0m \u001b[38;5;28;01mfrom\u001b[39;00m \u001b[38;5;21;01mplots\u001b[39;00m \u001b[38;5;28;01mimport\u001b[39;00m plot_read_graph\n\u001b[1;32m     18\u001b[0m \u001b[38;5;28;01mdef\u001b[39;00m \u001b[38;5;21mget_bam_stat_df\u001b[39m(bam_file):\n",
      "\u001b[0;31mImportError\u001b[0m: cannot import name 'OverlapGraph' from partially initialized module 'graph' (most likely due to a circular import) (/home/miaocj/docker_dir/kNN-overlap-finder/scripts/graph.py)"
     ]
    }
   ],
   "source": [
    "from typing import TYPE_CHECKING\n",
    "\n",
    "if TYPE_CHECKING:\n",
    "    from snakemake_stub import *\n",
    "from dataclasses import dataclass, field\n",
    "import networkx as nx\n",
    "import numpy as np\n",
    "import pandas as pd\n",
    "import pysam\n",
    "import scipy as sp\n",
    "import sys\n",
    "import matplotlib.pyplot as plt\n",
    "import os\n",
    "sys.path.append('/home/miaocj/docker_dir/kNN-overlap-finder/scripts')\n",
    "from graph import OverlapGraph, GenomicInterval\n",
    "from plots import plot_read_graph\n",
    "\n",
    "  "
   ]
  },
  {
   "cell_type": "code",
   "execution_count": 8,
   "id": "0e76de7f-3596-4d2e-8046-e52a6d118cb0",
   "metadata": {},
   "outputs": [],
   "source": [
    "# Create a custom substitution matrix (replace with your actual scores)\n",
    "alphabet_size = 1000\n",
    "matrix_array = np.random.randint(-5, 5, (alphabet_size, alphabet_size))  \n",
    "matrix = parasail.Matrix(matrix_array)"
   ]
  },
  {
   "cell_type": "code",
   "execution_count": 9,
   "id": "d3b258dc-b19b-4c6c-8b17-bef90b05577f",
   "metadata": {},
   "outputs": [
    {
     "data": {
      "text/plain": [
       "<parasail.bindings_v2.Matrix at 0x7f0f2d600160>"
      ]
     },
     "execution_count": 9,
     "metadata": {},
     "output_type": "execute_result"
    }
   ],
   "source": [
    "matrix"
   ]
  },
  {
   "cell_type": "code",
   "execution_count": null,
   "id": "f777ccee",
   "metadata": {},
   "outputs": [],
   "source": []
  },
  {
   "cell_type": "code",
   "execution_count": null,
   "id": "25e24802-5a51-42c0-8787-049a7807d08b",
   "metadata": {},
   "outputs": [],
   "source": [
    "result = parasail.sg_striped_32(\"AAA\", \"AAB\", 1, 1, )"
   ]
  },
  {
   "cell_type": "code",
   "execution_count": 2,
   "id": "7ed7d843-76b9-45a2-8989-6851c13ae8e8",
   "metadata": {},
   "outputs": [
    {
     "data": {
      "text/plain": [
       "0"
      ]
     },
     "execution_count": 2,
     "metadata": {},
     "output_type": "execute_result"
    }
   ],
   "source": [
    "from math import ceil\n",
    "ceil(0)"
   ]
  },
  {
   "cell_type": "code",
   "execution_count": null,
   "id": "246bb660-5db1-429d-b63f-93fafd16c10b",
   "metadata": {},
   "outputs": [],
   "source": []
  }
 ],
 "metadata": {
  "kernelspec": {
   "display_name": "3172702e82c9c1d9450fdd20452651b9_",
   "language": "python",
   "name": "python3"
  },
  "language_info": {
   "codemirror_mode": {
    "name": "ipython",
    "version": 3
   },
   "file_extension": ".py",
   "mimetype": "text/x-python",
   "name": "python",
   "nbconvert_exporter": "python",
   "pygments_lexer": "ipython3",
   "version": "3.12.3"
  }
 },
 "nbformat": 4,
 "nbformat_minor": 5
}
