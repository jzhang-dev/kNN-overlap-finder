{
 "cells": [
  {
   "cell_type": "code",
   "execution_count": 4,
   "id": "f164d963-8be9-4cf2-af74-fedd2f234051",
   "metadata": {},
   "outputs": [
    {
     "ename": "ModuleNotFoundError",
     "evalue": "No module named 'anndata'",
     "output_type": "error",
     "traceback": [
      "\u001b[0;31m---------------------------------------------------------------------------\u001b[0m",
      "\u001b[0;31mModuleNotFoundError\u001b[0m                       Traceback (most recent call last)",
      "Cell \u001b[0;32mIn[4], line 2\u001b[0m\n\u001b[1;32m      1\u001b[0m \u001b[38;5;66;03m#from scBiMapping import scBiMapping\u001b[39;00m\n\u001b[0;32m----> 2\u001b[0m \u001b[38;5;28;01mimport\u001b[39;00m \u001b[38;5;21;01manndata\u001b[39;00m\n\u001b[1;32m      3\u001b[0m \u001b[38;5;28;01mfrom\u001b[39;00m \u001b[38;5;21;01mscipy\u001b[39;00m\u001b[38;5;21;01m.\u001b[39;00m\u001b[38;5;21;01msparse\u001b[39;00m \u001b[38;5;28;01mimport\u001b[39;00m csr_matrix\n\u001b[1;32m      4\u001b[0m \u001b[38;5;28;01mimport\u001b[39;00m \u001b[38;5;21;01mnumpy\u001b[39;00m \u001b[38;5;28;01mas\u001b[39;00m \u001b[38;5;21;01mnp\u001b[39;00m\n",
      "\u001b[0;31mModuleNotFoundError\u001b[0m: No module named 'anndata'"
     ]
    }
   ],
   "source": [
    "#from scBiMapping import scBiMapping\n",
    "import anndata\n",
    "from scipy.sparse import csr_matrix\n",
    "import numpy as np\n",
    "import scipy as sp"
   ]
  },
  {
   "cell_type": "code",
   "execution_count": 3,
   "id": "133c4fe2-d8a7-47f7-a4ae-ddb357709ad4",
   "metadata": {},
   "outputs": [
    {
     "ename": "NameError",
     "evalue": "name 'np' is not defined",
     "output_type": "error",
     "traceback": [
      "\u001b[0;31m---------------------------------------------------------------------------\u001b[0m",
      "\u001b[0;31mNameError\u001b[0m                                 Traceback (most recent call last)",
      "Cell \u001b[0;32mIn[3], line 1\u001b[0m\n\u001b[0;32m----> 1\u001b[0m data \u001b[38;5;241m=\u001b[39m np\u001b[38;5;241m.\u001b[39marray([[\u001b[38;5;241m1\u001b[39m, \u001b[38;5;241m0\u001b[39m, \u001b[38;5;241m0\u001b[39m], [\u001b[38;5;241m0\u001b[39m, \u001b[38;5;241m2\u001b[39m, \u001b[38;5;241m0\u001b[39m], [\u001b[38;5;241m0\u001b[39m, \u001b[38;5;241m0\u001b[39m, \u001b[38;5;241m3\u001b[39m]])\n\u001b[1;32m      2\u001b[0m sparse_matrix \u001b[38;5;241m=\u001b[39m csr_matrix(data)\n",
      "\u001b[0;31mNameError\u001b[0m: name 'np' is not defined"
     ]
    }
   ],
   "source": [
    "data = np.array([[1, 0, 0], [0, 2, 0], [0, 0, 3]])\n",
    "sparse_matrix = csr_matrix(data)"
   ]
  },
  {
   "cell_type": "code",
   "execution_count": 3,
   "id": "f384322b-391f-4965-ac6c-18b9cbca18ad",
   "metadata": {},
   "outputs": [
    {
     "data": {
      "text/plain": [
       "array([[1, 0, 0],\n",
       "       [0, 2, 0],\n",
       "       [0, 0, 3]])"
      ]
     },
     "execution_count": 3,
     "metadata": {},
     "output_type": "execute_result"
    }
   ],
   "source": [
    "data"
   ]
  },
  {
   "cell_type": "code",
   "execution_count": 4,
   "id": "b44f6026-0f9d-4f8b-918d-3fe24f6485e9",
   "metadata": {},
   "outputs": [],
   "source": [
    "adata = anndata.AnnData(X=sparse_matrix)"
   ]
  },
  {
   "cell_type": "code",
   "execution_count": 5,
   "id": "f979db94-7ed9-45b2-8565-5c19320d6726",
   "metadata": {},
   "outputs": [
    {
     "data": {
      "text/plain": [
       "AnnData object with n_obs × n_vars = 3 × 3"
      ]
     },
     "execution_count": 5,
     "metadata": {},
     "output_type": "execute_result"
    }
   ],
   "source": [
    "adata"
   ]
  },
  {
   "cell_type": "code",
   "execution_count": 1,
   "id": "2b21e4e1-7e97-440f-a97d-a6906f4c84cb",
   "metadata": {},
   "outputs": [
    {
     "ename": "NameError",
     "evalue": "name 'sp' is not defined",
     "output_type": "error",
     "traceback": [
      "\u001b[0;31m---------------------------------------------------------------------------\u001b[0m",
      "\u001b[0;31mNameError\u001b[0m                                 Traceback (most recent call last)",
      "Cell \u001b[0;32mIn[1], line 2\u001b[0m\n\u001b[1;32m      1\u001b[0m npz_path \u001b[38;5;241m=\u001b[39m \u001b[38;5;124m\"\u001b[39m\u001b[38;5;124m../../data/feature_matrix/CHM13/IGK/pbsim_ONT_93_30k/kmer_k16/feature_matrix.npz\u001b[39m\u001b[38;5;124m\"\u001b[39m\n\u001b[0;32m----> 2\u001b[0m feature_matrix \u001b[38;5;241m=\u001b[39m sp\u001b[38;5;241m.\u001b[39msparse\u001b[38;5;241m.\u001b[39mload_npz(npz_path)\n\u001b[1;32m      3\u001b[0m feature_matrix\u001b[38;5;241m.\u001b[39mshape\n",
      "\u001b[0;31mNameError\u001b[0m: name 'sp' is not defined"
     ]
    }
   ],
   "source": [
    "npz_path = \"../../data/feature_matrix/CHM13/IGK/pbsim_ONT_93_30k/kmer_k16/feature_matrix.npz\"\n",
    "feature_matrix = sp.sparse.load_npz(npz_path)\n",
    "feature_matrix.shape\n"
   ]
  },
  {
   "cell_type": "code",
   "execution_count": 7,
   "id": "13bb4c76-a9d3-4d2e-bef9-2e9ecfa18a61",
   "metadata": {},
   "outputs": [],
   "source": [
    "adata = anndata.AnnData(X=feature_matrix)\n"
   ]
  },
  {
   "cell_type": "code",
   "execution_count": 8,
   "id": "e9261e48-44cd-47b8-a906-a0e032ac2f19",
   "metadata": {},
   "outputs": [
    {
     "data": {
      "text/plain": [
       "AnnData object with n_obs × n_vars = 5106 × 656109\n",
       "    obsm: 'U'"
      ]
     },
     "execution_count": 8,
     "metadata": {},
     "output_type": "execute_result"
    }
   ],
   "source": [
    "scBiMapping(adata, n_embedding=30)"
   ]
  },
  {
   "cell_type": "code",
   "execution_count": 9,
   "id": "87f60118-e581-4672-b498-19a448079f6f",
   "metadata": {},
   "outputs": [
    {
     "data": {
      "text/plain": [
       "array([[ 0.2165911 ,  0.09756917, -0.01162224, ..., -0.08327556,\n",
       "        -0.12868713, -0.27576814],\n",
       "       [-0.2165911 , -0.09756917, -0.01162224, ...,  0.08327556,\n",
       "        -0.12868713, -0.27576814],\n",
       "       [ 0.04562852,  0.01776834, -0.02201236, ..., -0.00158227,\n",
       "         0.5741844 , -0.33055792],\n",
       "       ...,\n",
       "       [ 0.0454144 ,  0.01765887, -0.02245639, ..., -0.00159081,\n",
       "         0.57279064, -0.32957271],\n",
       "       [ 0.00422731, -0.01515517,  0.03916587, ..., -0.01128547,\n",
       "        -0.08445211, -0.11451471],\n",
       "       [-0.00422731,  0.01515517,  0.03916587, ...,  0.01128547,\n",
       "        -0.08445211, -0.11451471]])"
      ]
     },
     "execution_count": 9,
     "metadata": {},
     "output_type": "execute_result"
    }
   ],
   "source": [
    "adata.obsm['U']"
   ]
  },
  {
   "cell_type": "code",
   "execution_count": null,
   "id": "d531b03c-8845-4ae9-93ae-6060753c19ea",
   "metadata": {},
   "outputs": [],
   "source": []
  }
 ],
 "metadata": {
  "kernelspec": {
   "display_name": "Python 3 (ipykernel)",
   "language": "python",
   "name": "python3"
  },
  "language_info": {
   "codemirror_mode": {
    "name": "ipython",
    "version": 3
   },
   "file_extension": ".py",
   "mimetype": "text/x-python",
   "name": "python",
   "nbconvert_exporter": "python",
   "pygments_lexer": "ipython3",
   "version": "3.12.2"
  }
 },
 "nbformat": 4,
 "nbformat_minor": 5
}
