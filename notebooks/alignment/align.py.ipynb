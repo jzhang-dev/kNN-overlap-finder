{
 "cells": [
  {
   "cell_type": "code",
   "execution_count": 10,
   "id": "8d1fe5ef-4d17-4565-832a-63a9f4f7eb16",
   "metadata": {},
   "outputs": [],
   "source": [
    "import numpy as np\n",
    "import parasail\n"
   ]
  },
  {
   "cell_type": "code",
   "execution_count": null,
   "id": "b587f3c2-3712-4f06-bcc6-07e9b07d2d75",
   "metadata": {},
   "outputs": [],
   "source": []
  },
  {
   "cell_type": "code",
   "execution_count": 8,
   "id": "0e76de7f-3596-4d2e-8046-e52a6d118cb0",
   "metadata": {},
   "outputs": [],
   "source": [
    "# Create a custom substitution matrix (replace with your actual scores)\n",
    "alphabet_size = 1000\n",
    "matrix_array = np.random.randint(-5, 5, (alphabet_size, alphabet_size))  \n",
    "matrix = parasail.Matrix(matrix_array)"
   ]
  },
  {
   "cell_type": "code",
   "execution_count": 9,
   "id": "d3b258dc-b19b-4c6c-8b17-bef90b05577f",
   "metadata": {},
   "outputs": [
    {
     "data": {
      "text/plain": [
       "<parasail.bindings_v2.Matrix at 0x7f0f2d600160>"
      ]
     },
     "execution_count": 9,
     "metadata": {},
     "output_type": "execute_result"
    }
   ],
   "source": [
    "matrix"
   ]
  },
  {
   "cell_type": "code",
   "execution_count": null,
   "id": "25e24802-5a51-42c0-8787-049a7807d08b",
   "metadata": {},
   "outputs": [],
   "source": [
    "result = parasail.sg_striped_32(\"AAA\", \"AAB\", 1, 1, )"
   ]
  },
  {
   "cell_type": "code",
   "execution_count": 2,
   "id": "7ed7d843-76b9-45a2-8989-6851c13ae8e8",
   "metadata": {},
   "outputs": [
    {
     "data": {
      "text/plain": [
       "0"
      ]
     },
     "execution_count": 2,
     "metadata": {},
     "output_type": "execute_result"
    }
   ],
   "source": [
    "from math import ceil\n",
    "ceil(0)"
   ]
  },
  {
   "cell_type": "code",
   "execution_count": null,
   "id": "246bb660-5db1-429d-b63f-93fafd16c10b",
   "metadata": {},
   "outputs": [],
   "source": []
  }
 ],
 "metadata": {
  "kernelspec": {
   "display_name": "dev",
   "language": "python",
   "name": "dev"
  },
  "language_info": {
   "codemirror_mode": {
    "name": "ipython",
    "version": 3
   },
   "file_extension": ".py",
   "mimetype": "text/x-python",
   "name": "python",
   "nbconvert_exporter": "python",
   "pygments_lexer": "ipython3",
   "version": "3.10.14"
  }
 },
 "nbformat": 4,
 "nbformat_minor": 5
}
