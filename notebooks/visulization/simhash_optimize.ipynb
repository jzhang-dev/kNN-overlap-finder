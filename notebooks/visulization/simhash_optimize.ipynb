{
 "cells": [
  {
   "cell_type": "code",
   "execution_count": 16,
   "metadata": {},
   "outputs": [],
   "source": [
    "import pandas as pd\n",
    "import matplotlib.pyplot as plt\n",
    "import itertools"
   ]
  },
  {
   "cell_type": "code",
   "execution_count": 2,
   "metadata": {},
   "outputs": [],
   "source": [
    "df = pd.read_csv('/home/miaocj/docker_dir/kNN-overlap-finder/notebooks/visulization/time_maxrss.txt',sep='\\t',header=None)"
   ]
  },
  {
   "cell_type": "code",
   "execution_count": 11,
   "metadata": {},
   "outputs": [],
   "source": [
    "header = ['SimHash_Before','SimHash_Now','MinHash']"
   ]
  },
  {
   "cell_type": "code",
   "execution_count": 24,
   "metadata": {},
   "outputs": [],
   "source": [
    "time = df.iloc[:,:3]\n",
    "max_rss = df.iloc[:,3:]"
   ]
  },
  {
   "cell_type": "code",
   "execution_count": 39,
   "metadata": {},
   "outputs": [],
   "source": [
    "def time_to_seconds(time_str):  \n",
    "    h, m, s = map(int, time_str.split(':'))  \n",
    "    return h*3600 + m*60 + s  "
   ]
  },
  {
   "cell_type": "code",
   "execution_count": 40,
   "metadata": {},
   "outputs": [
    {
     "name": "stderr",
     "output_type": "stream",
     "text": [
      "/tmp/ipykernel_1519095/3311531228.py:1: FutureWarning: DataFrame.applymap has been deprecated. Use DataFrame.map instead.\n",
      "  time2 = time.applymap(lambda x: time_to_seconds(x) if ':' in str(x) else x)\n"
     ]
    }
   ],
   "source": [
    "time2 = time.applymap(lambda x: time_to_seconds(x) if ':' in str(x) else x)  \n"
   ]
  },
  {
   "cell_type": "code",
   "execution_count": 41,
   "metadata": {},
   "outputs": [
    {
     "data": {
      "text/html": [
       "<div>\n",
       "<style scoped>\n",
       "    .dataframe tbody tr th:only-of-type {\n",
       "        vertical-align: middle;\n",
       "    }\n",
       "\n",
       "    .dataframe tbody tr th {\n",
       "        vertical-align: top;\n",
       "    }\n",
       "\n",
       "    .dataframe thead th {\n",
       "        text-align: right;\n",
       "    }\n",
       "</style>\n",
       "<table border=\"1\" class=\"dataframe\">\n",
       "  <thead>\n",
       "    <tr style=\"text-align: right;\">\n",
       "      <th></th>\n",
       "      <th>SimHash_Before</th>\n",
       "      <th>SimHash_Now</th>\n",
       "      <th>MinHash</th>\n",
       "    </tr>\n",
       "  </thead>\n",
       "  <tbody>\n",
       "    <tr>\n",
       "      <th>HLA</th>\n",
       "      <td>86099</td>\n",
       "      <td>6012</td>\n",
       "      <td>13585</td>\n",
       "    </tr>\n",
       "    <tr>\n",
       "      <th>IGK</th>\n",
       "      <td>2726</td>\n",
       "      <td>270</td>\n",
       "      <td>485</td>\n",
       "    </tr>\n",
       "    <tr>\n",
       "      <th>IGH</th>\n",
       "      <td>5578</td>\n",
       "      <td>619</td>\n",
       "      <td>1157</td>\n",
       "    </tr>\n",
       "    <tr>\n",
       "      <th>chr22</th>\n",
       "      <td>1346</td>\n",
       "      <td>148</td>\n",
       "      <td>270</td>\n",
       "    </tr>\n",
       "  </tbody>\n",
       "</table>\n",
       "</div>"
      ],
      "text/plain": [
       "       SimHash_Before  SimHash_Now  MinHash\n",
       "HLA             86099         6012    13585\n",
       "IGK              2726          270      485\n",
       "IGH              5578          619     1157\n",
       "chr22            1346          148      270"
      ]
     },
     "execution_count": 41,
     "metadata": {},
     "output_type": "execute_result"
    }
   ],
   "source": [
    "time2"
   ]
  },
  {
   "cell_type": "code",
   "execution_count": 36,
   "metadata": {},
   "outputs": [
    {
     "data": {
      "text/plain": [
       "pandas.core.series.Series"
      ]
     },
     "execution_count": 36,
     "metadata": {},
     "output_type": "execute_result"
    }
   ],
   "source": [
    "type(time.loc[:,'SimHash_Before'])"
   ]
  },
  {
   "cell_type": "code",
   "execution_count": 25,
   "metadata": {},
   "outputs": [
    {
     "name": "stderr",
     "output_type": "stream",
     "text": [
      "/tmp/ipykernel_1519095/4178535679.py:3: SettingWithCopyWarning: \n",
      "A value is trying to be set on a copy of a slice from a DataFrame\n",
      "\n",
      "See the caveats in the documentation: https://pandas.pydata.org/pandas-docs/stable/user_guide/indexing.html#returning-a-view-versus-a-copy\n",
      "  max_rss2 = max_rss.rename(index={'0':'chr22','1':'HLA','2':'IGH','3':'IGK'},inplace=True)\n",
      "/tmp/ipykernel_1519095/4178535679.py:4: SettingWithCopyWarning: \n",
      "A value is trying to be set on a copy of a slice from a DataFrame\n",
      "\n",
      "See the caveats in the documentation: https://pandas.pydata.org/pandas-docs/stable/user_guide/indexing.html#returning-a-view-versus-a-copy\n",
      "  time2 = time.rename(index={'0':'chr22','1':'HLA','2':'IGH','3':'IGK'},inplace=True)\n"
     ]
    }
   ],
   "source": [
    "regions = ['HLA','IGK','IGH','chr22']\n",
    "max_rss.columns = header\n",
    "time.columns = header\n",
    "max_rss.index = regions\n",
    "time.index=regions"
   ]
  },
  {
   "cell_type": "code",
   "execution_count": 60,
   "metadata": {},
   "outputs": [
    {
     "name": "stderr",
     "output_type": "stream",
     "text": [
      "/home/miaocj/docker_dir/kNN-overlap-finder/.snakemake/conda/3172702e82c9c1d9450fdd20452651b9_/lib/python3.12/site-packages/brokenaxes.py:344: UserWarning: set_ticklabels() should only be used with a fixed number of ticks, i.e. after set_ticks() or using a FixedLocator.\n",
      "  result.append(getattr(ax, method)(*args, **kwargs))\n",
      "/home/miaocj/docker_dir/kNN-overlap-finder/.snakemake/conda/3172702e82c9c1d9450fdd20452651b9_/lib/python3.12/site-packages/brokenaxes.py:344: UserWarning: set_ticklabels() should only be used with a fixed number of ticks, i.e. after set_ticks() or using a FixedLocator.\n",
      "  result.append(getattr(ax, method)(*args, **kwargs))\n"
     ]
    },
    {
     "data": {
      "image/png": "[encoded data removed]",
      "text/plain": [
       "<Figure size 640x480 with 3 Axes>"
      ]
     },
     "metadata": {},
     "output_type": "display_data"
    }
   ],
   "source": [
    "# 创建散点图 \n",
    "from brokenaxes import brokenaxes  \n",
    "colors = ['red','blue','green']\n",
    "bax = brokenaxes(ylims=((0,7000),(85000,87000)), hspace=.09, despine=False)  \n",
    "for i,methods in enumerate(header):\n",
    "    method_data = time2.loc[:,methods]\n",
    "    bax.scatter(regions,method_data, c=colors[i],label=methods)\n",
    "# 设置 x 轴标签和刻度  \n",
    "bax.set_xticks(range(len(regions)))  \n",
    "bax.set_xticklabels(regions)  \n",
    "# # 设置图例  \n",
    "bax.legend()  \n",
    "  \n",
    "# 显示图形  \n",
    "plt.show()  "
   ]
  }
 ],
 "metadata": {
  "kernelspec": {
   "display_name": "Python 3",
   "language": "python",
   "name": "python3"
  },
  "language_info": {
   "codemirror_mode": {
    "name": "ipython",
    "version": 3
   },
   "file_extension": ".py",
   "mimetype": "text/x-python",
   "name": "python",
   "nbconvert_exporter": "python",
   "pygments_lexer": "ipython3",
   "version": "3.12.3"
  }
 },
 "nbformat": 4,
 "nbformat_minor": 2
}
