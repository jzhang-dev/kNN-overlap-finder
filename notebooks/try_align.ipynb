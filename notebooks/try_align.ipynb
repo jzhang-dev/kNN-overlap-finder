{
 "cells": [
  {
   "cell_type": "code",
   "execution_count": 2,
   "metadata": {},
   "outputs": [
    {
     "name": "stdout",
     "output_type": "stream",
     "text": [
      "/home/miaocj/docker_dir/kNN-overlap-finder/scripts/../lib\n"
     ]
    }
   ],
   "source": [
    "import networkx as nx\n",
    "import pandas as pd\n",
    "import pysam\n",
    "import sys\n",
    "import matplotlib.pyplot as plt\n",
    "sys.path.append('/home/miaocj/docker_dir/kNN-overlap-finder/scripts')\n",
    "from graph import OverlapGraph, GenomicInterval, get_overlap_statistics, remove_false_edges\n",
    "from plots import plot_read_graph"
   ]
  },
  {
   "cell_type": "code",
   "execution_count": 27,
   "metadata": {},
   "outputs": [
    {
     "name": "stdout",
     "output_type": "stream",
     "text": [
      "There are 364(0.034016) reads do not have >90% percentage and 0(0.000000) of them have more than one alignment.\n",
      "1225.72893081761\n"
     ]
    },
    {
     "data": {
      "text/plain": [
       "(10337, 151400, 19857, 2)"
      ]
     },
     "execution_count": 27,
     "metadata": {},
     "output_type": "execute_result"
    }
   ],
   "source": [
    "def get_bam_stat_df(bam_file):\n",
    "    bam = pysam.AlignmentFile(bam_file, \"rb\")\n",
    "    df_rows = []\n",
    "    for i, seg in enumerate(bam.fetch(\"chr6\", 28476949, 34231258)):\n",
    "        if seg.is_reverse:\n",
    "            strand = \"-\"  # 反向链\n",
    "        else:\n",
    "            strand = \"+\"  # 正向链\n",
    "        if seg.has_tag(\"NM\"):\n",
    "            mismatch = seg.get_tag(\"NM\")\n",
    "        else:\n",
    "            mismatch = 0 \n",
    "        row = dict(\n",
    "            segment_id=i,\n",
    "            reference_name=seg.reference_name,\n",
    "            reference_start=seg.reference_start,\n",
    "            reference_end=seg.reference_end,\n",
    "            reference_strand = strand,\n",
    "            mismatch=mismatch,\n",
    "            query_name=seg.query_name,\n",
    "            query_alignment_start=seg.query_alignment_start,\n",
    "            query_length=seg.query_length,\n",
    "            query_alignment_length=seg.query_alignment_length,\n",
    "            mapping_quality=seg.mapping_quality,\n",
    "        )\n",
    "        df_rows.append(row)\n",
    "    df = pd.DataFrame(df_rows)\n",
    "    return df\n",
    "\n",
    "df = get_bam_stat_df(\"/home/miaocj/docker_dir/kNN-overlap-finder/data/real_reads/CHM13/real_cyclone/all_reads.bam\")\n",
    "df['percentage'] =df['query_alignment_length']/df['query_length']\n",
    "\n",
    "max_indices = df.groupby('query_name')['percentage'].idxmax()\n",
    "result = df.loc[max_indices]\n",
    "meta_df = result[result.percentage>0.9]\n",
    "all_reads_num = len(result['query_name'].tolist())\n",
    "\n",
    "bad_query = result[result.percentage<=0.9]['query_name'].tolist()\n",
    "bad_query_align = df[df.query_name.isin(bad_query)].groupby('query_name').size().reset_index()\n",
    "bad_query_num = bad_query_align.shape[0]\n",
    "bad_in_all = bad_query_num/all_reads_num\n",
    "lines_number = bad_query_align[bad_query_align.loc[:,0]>1].shape[0]\n",
    "per = lines_number/bad_query_num\n",
    "print('There are %d(%f) reads do not have >90%% percentage and %d(%f) of them have more than one alignment.'%(bad_query_num,bad_in_all,lines_number,per))\n",
    "  \n",
    "def get_read_intervals(meta_df):\n",
    "    read_intervals = {\n",
    "        i: [GenomicInterval(strand, start, end)]\n",
    "        for i, strand, start, end in zip(\n",
    "            meta_df.index,\n",
    "            meta_df[\"reference_strand\"],\n",
    "            meta_df[\"reference_start\"],\n",
    "            meta_df[\"reference_end\"],\n",
    "        )\n",
    "    }\n",
    "    return read_intervals\n",
    "\n",
    "read_intervals = get_read_intervals(meta_df)\n",
    "\n",
    "reference_graph = OverlapGraph.from_intervals(read_intervals)\n",
    "nr_edges = set((node_1, node_2) for node_1, node_2, data in reference_graph.edges(data=True) if not data['redundant'])\n",
    "connected_component_count = len(list(nx.connected_components(reference_graph)))\n",
    "len(reference_graph.nodes), len(reference_graph.edges), len(nr_edges), connected_component_count"
   ]
  },
  {
   "cell_type": "code",
   "execution_count": 33,
   "metadata": {},
   "outputs": [
    {
     "name": "stdout",
     "output_type": "stream",
     "text": [
      "579.3011512044113\n"
     ]
    },
    {
     "data": {
      "text/plain": [
       "(20676, 606600, 40462, 2)"
      ]
     },
     "execution_count": 33,
     "metadata": {},
     "output_type": "execute_result"
    }
   ],
   "source": [
    "#meta_df = pd.read_table('/home/miaocj/docker_dir/kNN-overlap-finder/data/feature_matrix/CHM13/IGK/real_cyclone/kmer_k16/metadata.tsv.gz').reset_index()\n",
    "meta_df = pd.read_table('/home/miaocj/docker_dir/kNN-overlap-finder/data/feature_matrix/CHM13/HLA/real_cyclone/kmer_k16/metadata.tsv.gz').reset_index()\n",
    "\n",
    "def get_read_intervals(meta_df):\n",
    "    read_intervals = {\n",
    "        i: [GenomicInterval(strand, start, end)]\n",
    "        for i, strand, start, end in zip(\n",
    "            meta_df.index,\n",
    "            meta_df[\"reference_strand\"],\n",
    "            meta_df[\"reference_start\"],\n",
    "            meta_df[\"reference_end\"],\n",
    "        )\n",
    "    }\n",
    "    return read_intervals\n",
    "\n",
    "read_intervals = get_read_intervals(meta_df)\n",
    "\n",
    "reference_graph = OverlapGraph.from_intervals(read_intervals)\n",
    "nr_edges = set((node_1, node_2) for node_1, node_2, data in reference_graph.edges(data=True) if not data['redundant'])\n",
    "connected_component_count = len(list(nx.connected_components(reference_graph)))\n",
    "len(reference_graph.nodes), len(reference_graph.edges), len(nr_edges), connected_component_count"
   ]
  },
  {
   "cell_type": "code",
   "execution_count": 34,
   "metadata": {},
   "outputs": [],
   "source": [
    "import collections\n",
    "from typing import Type, Sequence, Mapping, Any, Collection, MutableMapping\n",
    "from dataclasses import dataclass\n",
    "import numpy as np\n",
    "from numpy import ndarray\n",
    "import networkx as nx\n",
    "from intervaltree import Interval, IntervalTree\n",
    "def get_interval_trees(\n",
    "    read_intervals\n",
    "):\n",
    "    tree_dict = collections.defaultdict(IntervalTree)\n",
    "    for read, intervals in read_intervals.items():\n",
    "        for intv in intervals:\n",
    "            tree = tree_dict[intv.chromosome]\n",
    "            tree.addi(intv.start, intv.end, read)\n",
    "    return tree_dict\n",
    "trees = get_interval_trees(read_intervals=read_intervals)\n",
    "graph = nx.Graph()\n",
    "contained_reads = set()\n",
    "for read_0, intervals in read_intervals.items():\n",
    "    parent_reads = set()\n",
    "    for intv in intervals:\n",
    "        tree = trees[intv.chromosome]\n",
    "        start_0 = intv.start\n",
    "        end_0 = intv.end\n",
    "        for intv_1 in tree.overlap(start_0, end_0):\n",
    "            read_1 = intv_1.data\n",
    "            if read_1 == read_0:\n",
    "                continue\n",
    "            start_1, end_1 = intv_1.begin, intv_1.end\n",
    "            if start_1 < start_0 and end_1 > end_0:\n",
    "                parent_reads.add(read_1)\n",
    "            if graph.has_edge(read_0, read_1):\n",
    "                continue\n",
    "            overlap_size = max(0, min(end_0, end_1) - max(start_0, start_1))\n",
    "            left_overhang_size = abs(start_0 - start_1)\n",
    "            left_overhang_node = read_0 if start_0 <= start_1 else read_1\n",
    "            right_overhang_size = abs(end_0 - end_1)\n",
    "            right_overhang_node = read_0 if end_0 >= end_1 else read_1\n",
    "            graph.add_edge(\n",
    "                read_0,\n",
    "                read_1,\n",
    "                overlap_size=overlap_size,\n",
    "                left_overhang_size=left_overhang_size,\n",
    "                left_overhang_node=left_overhang_node,\n",
    "                right_overhang_size=right_overhang_size,\n",
    "                right_overhang_node=right_overhang_node,\n",
    "                redundant=True,\n",
    "            )"
   ]
  },
  {
   "cell_type": "code",
   "execution_count": 35,
   "metadata": {},
   "outputs": [
    {
     "data": {
      "image/png": "[encoded data removed]",
      "text/plain": [
       "<Figure size 800x600 with 1 Axes>"
      ]
     },
     "metadata": {},
     "output_type": "display_data"
    }
   ],
   "source": [
    "\n",
    "def get_graphviz_layout(graph, method=\"neato\", figsize=(8, 6), seed=43, **kw):\n",
    "    fig_width, fig_height = figsize\n",
    "    graph_attributes = dict(\n",
    "        dim=2, dimen=2, size=f'\"{fig_width},{fig_height}\"', start=seed, smoothing=\"none\"\n",
    "    )\n",
    "    graph_attributes.update(kw)\n",
    "    args = \" \".join(f\"-G{key}={value}\" for key, value in graph_attributes.items())\n",
    "    pos = nx.nx_agraph.graphviz_layout(graph, prog=method, args=args)\n",
    "    return pos\n",
    "\n",
    "pos = get_graphviz_layout(\n",
    "        graph=graph, figsize=(8, 6), seed=43, method=\"sfdp\"\n",
    "    )\n",
    "\n",
    "fig, ax = plt.subplots(figsize=(8, 6))\n",
    "\n",
    "BLUE = (29 / 255, 89 / 255, 142 / 255, 1)\n",
    "GREEN = (53 / 255, 125 / 255, 35 / 255, 1)\n",
    "ORANGE = (252 / 255, 177 / 255, 3 / 255, 1)\n",
    "\n",
    "# Node colors\n",
    "node_colors = []\n",
    "for node in graph.nodes:\n",
    "    if len(graph[node]) == 0:\n",
    "        color = ORANGE\n",
    "    elif meta_df.at[node, \"reference_strand\"] == \"+\":\n",
    "        color = BLUE\n",
    "    elif meta_df.at[node, \"reference_strand\"] == \"-\":\n",
    "        color = GREEN\n",
    "    else: \n",
    "        raise ValueError()\n",
    "    node_colors.append(color)\n",
    "\n",
    "# Plot\n",
    "nx.draw_networkx(\n",
    "    graph,\n",
    "    ax=ax,\n",
    "    pos=pos,\n",
    "    with_labels=False,\n",
    "    node_size=3,\n",
    "    #edge_color=edge_colors,\n",
    "    node_color=node_colors,\n",
    ")"
   ]
  }
 ],
 "metadata": {
  "kernelspec": {
   "display_name": "3172702e82c9c1d9450fdd20452651b9_",
   "language": "python",
   "name": "python3"
  },
  "language_info": {
   "codemirror_mode": {
    "name": "ipython",
    "version": 3
   },
   "file_extension": ".py",
   "mimetype": "text/x-python",
   "name": "python",
   "nbconvert_exporter": "python",
   "pygments_lexer": "ipython3",
   "version": "3.12.3"
  }
 },
 "nbformat": 4,
 "nbformat_minor": 2
}
