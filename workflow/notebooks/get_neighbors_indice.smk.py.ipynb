{
 "cells": [
  {
   "cell_type": "code",
   "execution_count": 4,
   "id": "a66ac6bd-b29b-48b6-9cf8-e5dd33f2e767",
   "metadata": {},
   "outputs": [],
   "source": [
    "import pickle, os, gzip, json, sys, itertools\n",
    "from pathlib import Path\n",
    "from importlib import reload\n",
    "from dataclasses import dataclass, field\n",
    "import collections\n",
    "import matplotlib.pyplot as plt\n",
    "import networkx as nx\n",
    "import numpy as np\n",
    "import pandas as pd\n",
    "import pysam\n",
    "import scipy as sp\n",
    "import seaborn\n",
    "import sharedmem\n",
    "\n",
    "\n",
    "plt.rcParams[\"figure.facecolor\"] = \"white\"\n",
    "plt.rcParams[\"figure.dpi\"] = 300\n",
    "\n",
    "\n",
    "sys.path.append(\"scripts\")\n",
    "sys.path.append(\"../../scripts\")"
   ]
  },
  {
   "cell_type": "code",
   "execution_count": 5,
   "id": "04e44b36-4f11-4ed5-81b3-d1612186a830",
   "metadata": {},
   "outputs": [
    {
     "name": "stdout",
     "output_type": "stream",
     "text": [
      "/home/miaochangjiu/kNN-overlap-finder/scripts/../lib\n"
     ]
    }
   ],
   "source": [
    "from data_io import is_fwd_id, get_fwd_id, get_sibling_id\n",
    "from dim_reduction import SpectralEmbedding, scBiMapEmbedding\n",
    "from nearest_neighbors import (\n",
    "    ExactNearestNeighbors,\n",
    "    NNDescent,\n",
    "    WeightedLowHash,\n",
    "    PAFNearestNeighbors,\n",
    "    LowHash,\n",
    "    HNSW,\n",
    "    ProductQuantization,\n",
    "    _NearestNeighbors,\n",
    "    IVFProductQuantization,\n",
    "    SimHash,\n",
    ")\n",
    "from graph import OverlapGraph, GenomicInterval, get_overlap_statistics, remove_false_edges\n",
    "from truth import get_overlaps\n",
    "from evaluate import NearestNeighborsConfig, compute_nearest_neighbors"
   ]
  },
  {
   "cell_type": "markdown",
   "id": "14424fac-7bf9-4e76-9864-1c856d5532d0",
   "metadata": {},
   "source": [
    "## Parameters\n"
   ]
  },
  {
   "cell_type": "code",
   "execution_count": 6,
   "id": "f51d1d2b-7df2-4747-baa0-e2f8adaf8d56",
   "metadata": {},
   "outputs": [],
   "source": [
    "MAX_SAMPLE_SIZE = int(1e9)\n",
    "COVERAGE_DEPTH = 20"
   ]
  },
  {
   "cell_type": "markdown",
   "id": "1f3dd54e-efb8-49f2-807e-037bb09780e2",
   "metadata": {},
   "source": [
    "## Load data"
   ]
  },
  {
   "cell_type": "code",
   "execution_count": null,
   "id": "7ae58181-508b-4162-a3a0-33b45ae40fd0",
   "metadata": {},
   "outputs": [],
   "source": [
    "\n",
    "sample = snakemake.wildcards['sample']\n",
    "dataset = snakemake.wildcards['platform']\n",
    "region = snakemake.wildcards['region']\n",
    "method = snakemake.wildcards['method']\n",
    "\n",
    "if method ==\"Minimap2\":\n",
    "    paf_path = snakemake.input['paf_minimap2']\n",
    "elif method == \"Blend\":\n",
    "    paf_path = snakemake.input['paf_blend']\n",
    "else:\n",
    "    paf_path = ''\n",
    "\n",
    "npz_path = snakemake.input['feature_matrix']\n",
    "tsv_path = snakemake.input['metadata']\n",
    "json_path = snakemake.input['read_features']\n",
    "\n",
    "nbr_path = snakemake.output['nbr_indice']\n",
    "threads  = snakemake.threads\n",
    "\n",
    "print(sample, dataset, region)"
   ]
  },
  {
   "cell_type": "code",
   "execution_count": null,
   "id": "5654c73f-bfbe-4907-ac8d-b2c94e016ca7",
   "metadata": {},
   "outputs": [],
   "source": [
    "meta_df = pd.read_table(tsv_path).iloc[:MAX_SAMPLE_SIZE, :].reset_index()\n",
    "read_indices = {read_name: read_id for read_id, read_name in meta_df['read_name'].items()}\n",
    "feature_matrix = sp.sparse.load_npz(npz_path)[meta_df.index, :]\n",
    "\n",
    "with gzip.open(json_path, \"rt\") as f:\n",
    "    read_features = json.load(f)\n",
    "    read_features = {i: read_features[i] for i in meta_df.index}\n",
    "\n",
    "feature_weights = {i: 1 for i in range(feature_matrix.shape[1])}"
   ]
  },
  {
   "cell_type": "code",
   "execution_count": null,
   "id": "2a9f4ebf-8301-4a19-97d3-31d26dfeb065",
   "metadata": {},
   "outputs": [],
   "source": [
    "fig, ax = plt.subplots(figsize=(8, 2.5))\n",
    "ax.hist([len(x) for x in read_features.values()], bins=100)\n",
    "ax.set_xlim(left=0)\n",
    "ax.set_xlabel(\"Number of features per read\")\n",
    "ax.set_ylabel(\"Number of reads\")\n",
    "ax.grid(color='k', alpha=0.1)"
   ]
  },
  {
   "cell_type": "markdown",
   "id": "74a95dd7-a1cc-45dc-8952-4b4ba6259686",
   "metadata": {},
   "source": [
    "## Get nearest neighbours"
   ]
  },
  {
   "cell_type": "code",
   "execution_count": null,
   "id": "1aa2d13b-23f2-46d9-91cd-3051c0b36fe1",
   "metadata": {},
   "outputs": [],
   "source": [
    "kw = dict(data=feature_matrix)\n",
    "max_bucket_size = COVERAGE_DEPTH * 1.5\n",
    "max_n_neighbors = COVERAGE_DEPTH\n",
    "\n",
    "with open('workflow/notebooks/config_dict.pkl', 'rb') as file:  \n",
    "    config_dict = pickle.load(file)\n",
    "\n",
    "config_dict[\"Minimap2\"]=NearestNeighborsConfig(\n",
    "        nearest_neighbors_method=PAFNearestNeighbors,\n",
    "        description=\"Minimap2 all-vs-all\",\n",
    "        nearest_neighbors_kw=dict(paf_path=paf_path, read_indices=read_indices)\n",
    "        )\n",
    "config_dict[\"Blend\"]=NearestNeighborsConfig(\n",
    "        nearest_neighbors_method=PAFNearestNeighbors,\n",
    "        description=\"Blend\",\n",
    "        nearest_neighbors_kw=dict(paf_path=paf_path, read_indices=read_indices)\n",
    "        )  "
   ]
  },
  {
   "cell_type": "code",
   "execution_count": null,
   "id": "6ae6103e-4222-4bfd-ab3a-9c23f3d25331",
   "metadata": {},
   "outputs": [],
   "source": [
    "config = config_dict[method]\n",
    "kw = dict(data=feature_matrix)\n",
    "\n",
    "neighbor_indices, elapsed_time, peak_memory = compute_nearest_neighbors(\n",
    "    data=feature_matrix,\n",
    "    config=config,\n",
    "    n_neighbors=max_n_neighbors,\n",
    "    read_features=read_features,\n",
    ")\n",
    "print(neighbor_indices)\n",
    "np.savez(nbr_path, neighbor_indices)\n"
   ]
  }
 ],
 "metadata": {
  "kernelspec": {
   "display_name": "Python 3 (ipykernel)",
   "language": "python",
   "name": "python3"
  },
  "language_info": {
   "codemirror_mode": {
    "name": "ipython",
    "version": 3
   },
   "file_extension": ".py",
   "mimetype": "text/x-python",
   "name": "python",
   "nbconvert_exporter": "python",
   "pygments_lexer": "ipython3",
   "version": "3.12.2"
  }
 },
 "nbformat": 4,
 "nbformat_minor": 5
}
