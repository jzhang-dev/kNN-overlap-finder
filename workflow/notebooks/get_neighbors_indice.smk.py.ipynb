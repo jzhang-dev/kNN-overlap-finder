{
 "cells": [
  {
   "cell_type": "code",
   "execution_count": 4,
   "id": "a66ac6bd-b29b-48b6-9cf8-e5dd33f2e767",
   "metadata": {},
   "outputs": [],
   "source": [
    "import pickle, os, gzip, json, sys, itertools\n",
    "from pathlib import Path\n",
    "from importlib import reload\n",
    "from dataclasses import dataclass, field\n",
    "import collections\n",
    "import matplotlib.pyplot as plt\n",
    "import networkx as nx\n",
    "import numpy as np\n",
    "import pandas as pd\n",
    "import pysam\n",
    "import scipy as sp\n",
    "import seaborn\n",
    "import sharedmem\n",
    "\n",
    "plt.rcParams[\"figure.facecolor\"] = \"white\"\n",
    "plt.rcParams[\"figure.dpi\"] = 300\n",
    "\n",
    "\n",
    "sys.path.append(\"scripts\")\n",
    "sys.path.append(\"../../scripts\")"
   ]
  },
  {
   "cell_type": "code",
   "execution_count": 5,
   "id": "04e44b36-4f11-4ed5-81b3-d1612186a830",
   "metadata": {},
   "outputs": [
    {
     "name": "stdout",
     "output_type": "stream",
     "text": [
      "/home/miaochangjiu/kNN-overlap-finder/scripts/../lib\n"
     ]
    }
   ],
   "source": [
    "from data_io import is_fwd_id, get_fwd_id, get_sibling_id\n",
    "from dim_reduction import SpectralEmbedding, scBiMapEmbedding\n",
    "from nearest_neighbors import (\n",
    "    ExactNearestNeighbors,\n",
    "    NNDescent,\n",
    "    WeightedLowHash,\n",
    "    PAFNearestNeighbors,\n",
    "    LowHash,\n",
    "    HNSW,\n",
    "    ProductQuantization,\n",
    "    _NearestNeighbors,\n",
    "    IVFProductQuantization,\n",
    ")\n",
    "from graph import OverlapGraph, GenomicInterval, get_overlap_statistics, remove_false_edges\n",
    "from truth import get_overlaps\n",
    "from evaluate import NearestNeighborsConfig, mp_compute_nearest_neighbors"
   ]
  },
  {
   "cell_type": "markdown",
   "id": "14424fac-7bf9-4e76-9864-1c856d5532d0",
   "metadata": {},
   "source": [
    "## Parameters\n"
   ]
  },
  {
   "cell_type": "code",
   "execution_count": 6,
   "id": "f51d1d2b-7df2-4747-baa0-e2f8adaf8d56",
   "metadata": {},
   "outputs": [],
   "source": [
    "MAX_SAMPLE_SIZE = int(1e9)\n",
    "COVERAGE_DEPTH = 20"
   ]
  },
  {
   "cell_type": "markdown",
   "id": "1f3dd54e-efb8-49f2-807e-037bb09780e2",
   "metadata": {},
   "source": [
    "## Load data"
   ]
  },
  {
   "cell_type": "code",
   "execution_count": 7,
   "id": "7ae58181-508b-4162-a3a0-33b45ae40fd0",
   "metadata": {},
   "outputs": [
    {
     "ename": "NameError",
     "evalue": "name 'snakemake' is not defined",
     "output_type": "error",
     "traceback": [
      "\u001b[0;31m---------------------------------------------------------------------------\u001b[0m",
      "\u001b[0;31mNameError\u001b[0m                                 Traceback (most recent call last)",
      "Cell \u001b[0;32mIn[7], line 1\u001b[0m\n\u001b[0;32m----> 1\u001b[0m sample \u001b[38;5;241m=\u001b[39m snakemake\u001b[38;5;241m.\u001b[39mwildcards[\u001b[38;5;124m'\u001b[39m\u001b[38;5;124msample\u001b[39m\u001b[38;5;124m'\u001b[39m]\n\u001b[1;32m      2\u001b[0m dataset \u001b[38;5;241m=\u001b[39m snakemake\u001b[38;5;241m.\u001b[39mwildcards[\u001b[38;5;124m'\u001b[39m\u001b[38;5;124mplatform\u001b[39m\u001b[38;5;124m'\u001b[39m]\n\u001b[1;32m      3\u001b[0m region \u001b[38;5;241m=\u001b[39m snakemake\u001b[38;5;241m.\u001b[39mwildcards[\u001b[38;5;124m'\u001b[39m\u001b[38;5;124mregion\u001b[39m\u001b[38;5;124m'\u001b[39m]\n",
      "\u001b[0;31mNameError\u001b[0m: name 'snakemake' is not defined"
     ]
    }
   ],
   "source": [
    "\n",
    "sample = snakemake.wildcards['sample']\n",
    "dataset = snakemake.wildcards['platform']\n",
    "region = snakemake.wildcards['region']\n",
    "method = snakemake.wildcards['method']\n",
    "\n",
    "if method ==\"Minimap2\":\n",
    "    paf_path = snakemake.input['paf_minimap2']\n",
    "elif method == \"Blend\":\n",
    "    paf_path = snakemake.input['paf_blend']\n",
    "else:\n",
    "    paf_path = ''\n",
    "\n",
    "npz_path = snakemake.input['feature_matrix']\n",
    "tsv_path = snakemake.input['metadata']\n",
    "json_path = snakemake.input['read_features']\n",
    "\n",
    "nbr_path = snakemake.output['nbr_indice']\n",
    "stat_path = snakemake.output['overlap']\n",
    "threads  = snakemake.threads\n",
    "\n",
    "print(sample, dataset, region)"
   ]
  },
  {
   "cell_type": "code",
   "execution_count": null,
   "id": "5654c73f-bfbe-4907-ac8d-b2c94e016ca7",
   "metadata": {},
   "outputs": [],
   "source": [
    "meta_df = pd.read_table(tsv_path).iloc[:MAX_SAMPLE_SIZE, :].reset_index()\n",
    "read_indices = {read_name: read_id for read_id, read_name in meta_df['read_name'].items()}\n",
    "feature_matrix = sp.sparse.load_npz(npz_path)[meta_df.index, :]\n",
    "\n",
    "with gzip.open(json_path, \"rt\") as f:\n",
    "    read_features = json.load(f)\n",
    "    read_features = {i: read_features[i] for i in meta_df.index}\n",
    "\n",
    "feature_weights = {i: 1 for i in range(feature_matrix.shape[1])}"
   ]
  },
  {
   "cell_type": "code",
   "execution_count": null,
   "id": "2a9f4ebf-8301-4a19-97d3-31d26dfeb065",
   "metadata": {},
   "outputs": [],
   "source": [
    "fig, ax = plt.subplots(figsize=(8, 2.5))\n",
    "ax.hist([len(x) for x in read_features.values()], bins=100)\n",
    "ax.set_xlim(left=0)\n",
    "ax.set_xlabel(\"Number of features per read\")\n",
    "ax.set_ylabel(\"Number of reads\")\n",
    "ax.grid(color='k', alpha=0.1)"
   ]
  },
  {
   "cell_type": "markdown",
   "id": "74a95dd7-a1cc-45dc-8952-4b4ba6259686",
   "metadata": {},
   "source": [
    "## Get nearest neighbours"
   ]
  },
  {
   "cell_type": "code",
   "execution_count": null,
   "id": "1aa2d13b-23f2-46d9-91cd-3051c0b36fe1",
   "metadata": {},
   "outputs": [],
   "source": [
    "kw = dict(data=feature_matrix)\n",
    "max_bucket_size = COVERAGE_DEPTH * 1.5\n",
    "max_n_neighbors = COVERAGE_DEPTH\n",
    "\n",
    "with open('workflow/notebooks/config_dict.pkl', 'rb') as file:  \n",
    "    config_dict = pickle.load(file)\n",
    "\n",
    "config_dict[\"Minimap2\"]=NearestNeighborsConfig(\n",
    "        nearest_neighbors_method=PAFNearestNeighbors,\n",
    "        description=\"Minimap2 all-vs-all\",\n",
    "        nearest_neighbors_kw=dict(paf_path=paf_path, read_indices=read_indices)\n",
    "        )\n",
    "config_dict[\"Blend\"]=NearestNeighborsConfig(\n",
    "        nearest_neighbors_method=PAFNearestNeighbors,\n",
    "        description=\"Blend\",\n",
    "        nearest_neighbors_kw=dict(paf_path=paf_path, read_indices=read_indices)\n",
    "        )  "
   ]
  },
  {
   "cell_type": "code",
   "execution_count": null,
   "id": "6ae6103e-4222-4bfd-ab3a-9c23f3d25331",
   "metadata": {},
   "outputs": [],
   "source": [
    "processes = threads\n",
    "config = config_dict[method]\n",
    "configs = [config]\n",
    "kw = dict(data=feature_matrix)\n",
    "\n",
    "nbr_dict, time_dict, memory_dict = mp_compute_nearest_neighbors(\n",
    "    data=feature_matrix,\n",
    "    configs=configs,\n",
    "    n_neighbors=max_n_neighbors,\n",
    "    processes=processes,\n",
    ")\n",
    "\n",
    "np.savez(nbr_path, nbr_dict)"
   ]
  },
  {
   "cell_type": "markdown",
   "id": "6b936017-e53e-40a0-ac6a-3c7fe05ad6b5",
   "metadata": {},
   "source": [
    "## Statistics"
   ]
  },
  {
   "cell_type": "code",
   "execution_count": null,
   "id": "a5c0e043-b437-4432-b704-a0b32664e070",
   "metadata": {},
   "outputs": [],
   "source": [
    "read_ids = np.array(list(read_features))\n",
    "graphs = collections.defaultdict(dict)\n",
    "k_values = np.arange(2, max_n_neighbors + 1)\n",
    "for i, config in enumerate(configs):\n",
    "    print(i, end=\" \")\n",
    "    nbr_indices = nbr_dict[i]\n",
    "    for k in k_values:\n",
    "        graph = OverlapGraph.from_neighbor_indices(\n",
    "            neighbor_indices=nbr_indices,\n",
    "            n_neighbors=k,\n",
    "            read_ids=read_ids,\n",
    "            require_mutual_neighbors=False,\n",
    "        )\n",
    "        graphs[i][k] = graph"
   ]
  },
  {
   "cell_type": "code",
   "execution_count": null,
   "id": "b938625f-7a82-40cb-a49e-912a88c59c23",
   "metadata": {},
   "outputs": [],
   "source": [
    "def get_read_intervals(meta_df):\n",
    "    read_intervals = {\n",
    "        i: [GenomicInterval(strand, start, end)]\n",
    "        for i, strand, start, end in zip(\n",
    "            meta_df.index,\n",
    "            meta_df[\"reference_strand\"],\n",
    "            meta_df[\"reference_start\"],\n",
    "            meta_df[\"reference_end\"],\n",
    "        )\n",
    "    }\n",
    "    return read_intervals\n",
    "\n",
    "read_intervals = get_read_intervals(meta_df)\n",
    "len(read_intervals)\n",
    "\n",
    "reference_graph = OverlapGraph.from_intervals(read_intervals)\n",
    "nr_edges = set((node_1, node_2) for node_1, node_2, data in reference_graph.edges(data=True) if not data['redundant'])\n",
    "connected_component_count = len(list(nx.connected_components(reference_graph)))\n",
    "len(reference_graph.nodes), len(reference_graph.edges), len(nr_edges), connected_component_count\n"
   ]
  },
  {
   "cell_type": "code",
   "execution_count": 1,
   "id": "7fdaf979-7946-4305-9642-a18d02a7af71",
   "metadata": {},
   "outputs": [
    {
     "ename": "NameError",
     "evalue": "name 'configs' is not defined",
     "output_type": "error",
     "traceback": [
      "\u001b[0;31m---------------------------------------------------------------------------\u001b[0m",
      "\u001b[0;31mNameError\u001b[0m                                 Traceback (most recent call last)",
      "Cell \u001b[0;32mIn[1], line 2\u001b[0m\n\u001b[1;32m      1\u001b[0m df_rows \u001b[38;5;241m=\u001b[39m []\n\u001b[0;32m----> 2\u001b[0m \u001b[38;5;28;01mfor\u001b[39;00m i, config \u001b[38;5;129;01min\u001b[39;00m \u001b[38;5;28menumerate\u001b[39m(configs):\n\u001b[1;32m      3\u001b[0m     \u001b[38;5;28mprint\u001b[39m(i, end\u001b[38;5;241m=\u001b[39m\u001b[38;5;124m'\u001b[39m\u001b[38;5;124m \u001b[39m\u001b[38;5;124m'\u001b[39m)\n\u001b[1;32m      4\u001b[0m     \u001b[38;5;28;01mfor\u001b[39;00m k \u001b[38;5;129;01min\u001b[39;00m k_values:\n",
      "\u001b[0;31mNameError\u001b[0m: name 'configs' is not defined"
     ]
    }
   ],
   "source": [
    "df_rows = []\n",
    "for i, config in enumerate(configs):\n",
    "    print(i, end=' ')\n",
    "    for k in k_values:\n",
    "        graph = graphs[i][k]\n",
    "        graph_stats = get_overlap_statistics(query_graph=graph, reference_graph=reference_graph)\n",
    "        time_stats = {\"elapsed_time:\" + k: v for k, v in time_dict[i].items()}\n",
    "        memory_stats = {\"peak_memory:\" + k: v for k, v in memory_dict[i].items()}\n",
    "        \n",
    "        stats = {\"config_id\": i, \"description\": config.description, \"n_neighbors\": k, \n",
    "                 **graph_stats, **time_stats, **memory_stats}\n",
    "        df_rows.append(stats)\n",
    "df = pd.DataFrame(df_rows)\n",
    "df['connected_fraction'] = 1 - df['singleton_fraction']\n",
    "df.to_csv(stat_path,  sep='\\t')"
   ]
  }
 ],
 "metadata": {
  "kernelspec": {
   "display_name": "Python 3 (ipykernel)",
   "language": "python",
   "name": "python3"
  },
  "language_info": {
   "codemirror_mode": {
    "name": "ipython",
    "version": 3
   },
   "file_extension": ".py",
   "mimetype": "text/x-python",
   "name": "python",
   "nbconvert_exporter": "python",
   "pygments_lexer": "ipython3",
   "version": "3.12.2"
  }
 },
 "nbformat": 4,
 "nbformat_minor": 5
}
