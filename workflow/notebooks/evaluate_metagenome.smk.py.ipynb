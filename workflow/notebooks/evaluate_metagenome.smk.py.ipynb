{
 "cells": [
  {
   "cell_type": "code",
   "execution_count": null,
   "metadata": {},
   "outputs": [],
   "source": [
    "import pickle, os, gzip, json, sys, itertools\n",
    "from pathlib import Path\n",
    "from importlib import reload\n",
    "from dataclasses import dataclass, field\n",
    "import collections\n",
    "import networkx as nx\n",
    "import numpy as np\n",
    "import pandas as pd\n",
    "import pysam\n",
    "import scipy as sp\n",
    "import seaborn\n",
    "import sharedmem\n",
    "\n",
    "sys.path.append(\"scripts\")\n",
    "sys.path.append(\"../../scripts\")"
   ]
  },
  {
   "cell_type": "code",
   "execution_count": null,
   "metadata": {},
   "outputs": [],
   "source": [
    "sample = snakemake.wildcards['sample']\n",
    "dataset = snakemake.wildcards['platform']\n",
    "region = snakemake.wildcards['region']\n",
    "method = snakemake.wildcards['method']\n",
    "\n",
    "npz_path = snakemake.input['feature_matrix']\n",
    "tsv_path = snakemake.input['metadata']\n",
    "json_path = snakemake.input['read_features']\n",
    "nbr_path = snakemake.input['nbr_indice']\n",
    "\n",
    "stat_path = snakemake.output['overlap']\n",
    "\n",
    "threads  = snakemake.threads\n",
    "\n",
    "print(sample, dataset, region)"
   ]
  }
 ],
 "metadata": {
  "kernelspec": {
   "display_name": "Python 3",
   "language": "python",
   "name": "python3"
  },
  "language_info": {
   "name": "python",
   "version": "3.12.3"
  }
 },
 "nbformat": 4,
 "nbformat_minor": 2
}
